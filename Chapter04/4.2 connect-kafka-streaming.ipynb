{
 "cells": [
  {
   "cell_type": "code",
   "execution_count": 26,
   "id": "54f45c54-0b95-4fd9-a180-fe3be96ab99d",
   "metadata": {},
   "outputs": [],
   "source": [
    "from delta import *\n",
    "from pyspark.sql import SparkSession\n",
    "from pyspark.sql.functions import *\n",
    "from pyspark.sql.types import *"
   ]
  },
  {
   "cell_type": "code",
   "execution_count": 27,
   "id": "e7850eab-3759-491d-a70a-7a02977db101",
   "metadata": {},
   "outputs": [],
   "source": [
    "builder = (SparkSession.builder\n",
    "           .appName(\"connect-kafka-streaming\")\n",
    "           .master(\"spark://spark-master:7077\")\n",
    "           .config(\"spark.executor.memory\", \"512m\")\n",
    "           .config(\"spark.sql.extensions\", \"io.delta.sql.DeltaSparkSessionExtension\")\n",
    "           .config(\"spark.sql.catalog.spark_catalog\", \"org.apache.spark.sql.delta.catalog.DeltaCatalog\"))\n",
    "\n",
    "spark = configure_spark_with_delta_pip(builder,['org.apache.spark:spark-sql-kafka-0-10_2.12:3.4.1']).getOrCreate()\n",
    "spark.sparkContext.setLogLevel(\"ERROR\")"
   ]
  },
  {
   "cell_type": "code",
   "execution_count": 28,
   "id": "228e8f56-4fd9-497a-947f-8ce968889dc7",
   "metadata": {
    "tags": []
   },
   "outputs": [],
   "source": [
    "df = (spark.readStream\n",
    "      .format(\"kafka\")\n",
    "      .option(\"kafka.bootstrap.servers\", \"kafka:9092\")\n",
    "      .option(\"subscribe\", \"users\")\n",
    "      .option(\"startingOffsets\", \"earliest\")\n",
    "      .load())"
   ]
  },
  {
   "cell_type": "code",
   "execution_count": 29,
   "id": "a0e26449-e04a-4cf5-a42f-5594943bd3fa",
   "metadata": {
    "tags": []
   },
   "outputs": [],
   "source": [
    "from pyspark.sql.types import StructType, StructField, IntegerType, StringType\n",
    "\n",
    "schema = StructType([\n",
    "    StructField('id', IntegerType(), True),\n",
    "    StructField('name', StringType(), True),\n",
    "    StructField('age', IntegerType(), True),\n",
    "    StructField('gender', StringType(), True),\n",
    "    StructField('country', StringType(), True)])\n",
    "\n",
    "df = df.withColumn('value', from_json(col('value').cast(\"STRING\"), schema))"
   ]
  },
  {
   "cell_type": "code",
   "execution_count": 30,
   "id": "d32adfa0-6435-485d-902d-de381d260ca3",
   "metadata": {},
   "outputs": [],
   "source": [
    "from pyspark.sql.functions import col\n",
    "\n",
    "df = df.select(\n",
    "    col('value.id').alias('id'),\n",
    "    col('value.name').alias('name'),\n",
    "    col('value.age').alias('age'),\n",
    "    col('value.gender').alias('gender'),\n",
    "    col('value.country').alias('country'))"
   ]
  },
  {
   "cell_type": "code",
   "execution_count": 31,
   "id": "5c447d82-f3f3-4b78-98b9-cb8e1e79512c",
   "metadata": {
    "tags": []
   },
   "outputs": [
    {
     "name": "stderr",
     "output_type": "stream",
     "text": [
      "                                                                                \r"
     ]
    },
    {
     "name": "stdout",
     "output_type": "stream",
     "text": [
      "-------------------------------------------\n",
      "Batch: 0\n",
      "-------------------------------------------\n",
      "+---+-------+---+------+---------+\n",
      "| id|   name|age|gender|  country|\n",
      "+---+-------+---+------+---------+\n",
      "|100| user43| 65|     F|Australia|\n",
      "| 61| user68| 27|     M|Australia|\n",
      "| 35| user54| 37|     M|   Brazil|\n",
      "|  9| user30| 18|     M|    China|\n",
      "|  9| user82| 24|     M|   Canada|\n",
      "| 22| user40| 19|     F|   Brazil|\n",
      "| 78| user81| 43|     F|Australia|\n",
      "|  4| user90| 60|     F|    China|\n",
      "| 16| user31| 54|     F|Australia|\n",
      "| 36|user100| 48|     M|Australia|\n",
      "| 20| user14| 23|     F|    China|\n",
      "| 82| user21| 60|     M|      USA|\n",
      "| 90| user39| 50|     M|Australia|\n",
      "| 52|  user6| 51|     M|       UK|\n",
      "| 86| user61| 65|     F|       UK|\n",
      "| 46| user38| 46|     F|    China|\n",
      "|  3| user54| 45|     F|   Canada|\n",
      "| 32| user24| 49|     M|       UK|\n",
      "| 29|  user2| 59|     M|    India|\n",
      "| 57| user72| 46|     F|   Brazil|\n",
      "+---+-------+---+------+---------+\n",
      "only showing top 20 rows\n",
      "\n"
     ]
    },
    {
     "name": "stderr",
     "output_type": "stream",
     "text": [
      "                                                                                \r"
     ]
    },
    {
     "name": "stdout",
     "output_type": "stream",
     "text": [
      "-------------------------------------------\n",
      "Batch: 1\n",
      "-------------------------------------------\n",
      "+---+------+---+------+-------+\n",
      "| id|  name|age|gender|country|\n",
      "+---+------+---+------+-------+\n",
      "| 38| user3| 47|     F|  India|\n",
      "|  6|user67| 53|     F|  China|\n",
      "+---+------+---+------+-------+\n",
      "\n"
     ]
    },
    {
     "name": "stderr",
     "output_type": "stream",
     "text": [
      "                                                                                \r"
     ]
    },
    {
     "name": "stdout",
     "output_type": "stream",
     "text": [
      "-------------------------------------------\n",
      "Batch: 2\n",
      "-------------------------------------------\n",
      "+---+------+---+------+-------+\n",
      "| id|  name|age|gender|country|\n",
      "+---+------+---+------+-------+\n",
      "| 33|user15| 28|     M|     UK|\n",
      "+---+------+---+------+-------+\n",
      "\n"
     ]
    },
    {
     "name": "stderr",
     "output_type": "stream",
     "text": [
      "                                                                                \r"
     ]
    },
    {
     "name": "stdout",
     "output_type": "stream",
     "text": [
      "-------------------------------------------\n",
      "Batch: 3\n",
      "-------------------------------------------\n",
      "+---+------+---+------+-------+\n",
      "| id|  name|age|gender|country|\n",
      "+---+------+---+------+-------+\n",
      "| 72|user21| 46|     M|    USA|\n",
      "+---+------+---+------+-------+\n",
      "\n"
     ]
    },
    {
     "name": "stderr",
     "output_type": "stream",
     "text": [
      "                                                                                \r"
     ]
    },
    {
     "name": "stdout",
     "output_type": "stream",
     "text": [
      "-------------------------------------------\n",
      "Batch: 4\n",
      "-------------------------------------------\n",
      "+---+------+---+------+---------+\n",
      "| id|  name|age|gender|  country|\n",
      "+---+------+---+------+---------+\n",
      "| 69|user39| 47|     F|Australia|\n",
      "+---+------+---+------+---------+\n",
      "\n"
     ]
    },
    {
     "name": "stderr",
     "output_type": "stream",
     "text": [
      "                                                                                \r"
     ]
    },
    {
     "name": "stdout",
     "output_type": "stream",
     "text": [
      "-------------------------------------------\n",
      "Batch: 5\n",
      "-------------------------------------------\n",
      "+---+------+---+------+---------+\n",
      "| id|  name|age|gender|  country|\n",
      "+---+------+---+------+---------+\n",
      "| 44|user20| 37|     M|Australia|\n",
      "+---+------+---+------+---------+\n",
      "\n",
      "-------------------------------------------\n",
      "Batch: 6\n",
      "-------------------------------------------\n",
      "+---+------+---+------+-------+\n",
      "| id|  name|age|gender|country|\n",
      "+---+------+---+------+-------+\n",
      "| 70|user95| 65|     M| Canada|\n",
      "+---+------+---+------+-------+\n",
      "\n",
      "-------------------------------------------\n",
      "Batch: 7\n",
      "-------------------------------------------\n",
      "+---+------+---+------+-------+\n",
      "| id|  name|age|gender|country|\n",
      "+---+------+---+------+-------+\n",
      "| 79|user76| 63|     F|  India|\n",
      "+---+------+---+------+-------+\n",
      "\n",
      "-------------------------------------------\n",
      "Batch: 8\n",
      "-------------------------------------------\n",
      "+---+------+---+------+-------+\n",
      "| id|  name|age|gender|country|\n",
      "+---+------+---+------+-------+\n",
      "| 82|user35| 61|     F|     UK|\n",
      "+---+------+---+------+-------+\n",
      "\n"
     ]
    },
    {
     "name": "stderr",
     "output_type": "stream",
     "text": [
      "                                                                                \r"
     ]
    },
    {
     "name": "stdout",
     "output_type": "stream",
     "text": [
      "-------------------------------------------\n",
      "Batch: 9\n",
      "-------------------------------------------\n",
      "+---+------+---+------+-------+\n",
      "| id|  name|age|gender|country|\n",
      "+---+------+---+------+-------+\n",
      "| 11|user18| 42|     M| Canada|\n",
      "+---+------+---+------+-------+\n",
      "\n",
      "-------------------------------------------\n",
      "Batch: 10\n",
      "-------------------------------------------\n",
      "+---+------+---+------+-------+\n",
      "| id|  name|age|gender|country|\n",
      "+---+------+---+------+-------+\n",
      "| 23|user60| 45|     M| Brazil|\n",
      "+---+------+---+------+-------+\n",
      "\n",
      "-------------------------------------------\n",
      "Batch: 11\n",
      "-------------------------------------------\n",
      "+---+------+---+------+---------+\n",
      "| id|  name|age|gender|  country|\n",
      "+---+------+---+------+---------+\n",
      "| 42|user95| 50|     M|Australia|\n",
      "+---+------+---+------+---------+\n",
      "\n",
      "-------------------------------------------\n",
      "Batch: 12\n",
      "-------------------------------------------\n",
      "+---+------+---+------+-------+\n",
      "| id|  name|age|gender|country|\n",
      "+---+------+---+------+-------+\n",
      "| 15|user36| 53|     F| Brazil|\n",
      "+---+------+---+------+-------+\n",
      "\n"
     ]
    }
   ],
   "source": [
    "query = (df.writeStream\n",
    "    .outputMode('append')\n",
    "    .format('console')\n",
    "    .start())"
   ]
  },
  {
   "cell_type": "code",
   "execution_count": 32,
   "id": "bbdd7547-1607-4aa8-9e44-9e82f7356ef4",
   "metadata": {},
   "outputs": [],
   "source": [
    "query.stop()"
   ]
  },
  {
   "cell_type": "code",
   "execution_count": null,
   "id": "3cd80463-c3a7-4026-bc58-1481533b9816",
   "metadata": {},
   "outputs": [],
   "source": [
    "spark.stop()"
   ]
  }
 ],
 "metadata": {
  "kernelspec": {
   "display_name": "Python 3 (ipykernel)",
   "language": "python",
   "name": "python3"
  },
  "language_info": {
   "codemirror_mode": {
    "name": "ipython",
    "version": 3
   },
   "file_extension": ".py",
   "mimetype": "text/x-python",
   "name": "python",
   "nbconvert_exporter": "python",
   "pygments_lexer": "ipython3",
   "version": "3.10.12"
  }
 },
 "nbformat": 4,
 "nbformat_minor": 5
}
