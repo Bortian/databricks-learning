{
 "cells": [
  {
   "cell_type": "code",
   "execution_count": null,
   "id": "8393e835-14fb-4aa3-833f-d60aa5464018",
   "metadata": {},
   "outputs": [],
   "source": [
    "import json\n",
    "import random\n",
    "import time\n",
    "from kafka import KafkaProducer\n",
    "# using datetime module\n",
    "import datetime;\n",
    "\n",
    "producer = KafkaProducer(bootstrap_servers='kafka:9092')\n",
    "countries = ['USA', 'UK', 'India', 'China', 'Brazil', 'Canada', 'Australia']\n",
    "genders = ['M', 'F']\n",
    "\n",
    "while True:\n",
    "    current_time = time.time()\n",
    "    message = {\n",
    "        'id': random.randint(1, 100),\n",
    "        'name': f'user{random.randint(1, 100)}',\n",
    "        'age': random.randint(18, 65),\n",
    "        'gender': random.choice(genders),\n",
    "        'country': random.choice(countries),\n",
    "        'timestamp':datetime.datetime.fromtimestamp(current_time).strftime(\"%m/%d/%Y, %H:%M:%S\")\n",
    "    }\n",
    "    producer.send('users', value=json.dumps(message).encode('utf-8'))\n",
    "    print(message)\n",
    "    time.sleep(10)"
   ]
  },
  {
   "cell_type": "markdown",
   "id": "87081f46-4053-4df2-b262-aec86df50970",
   "metadata": {
    "jp-MarkdownHeadingCollapsed": true
   },
   "source": [
    "### "
   ]
  }
 ],
 "metadata": {
  "kernelspec": {
   "display_name": "Python 3 (ipykernel)",
   "language": "python",
   "name": "python3"
  },
  "language_info": {
   "codemirror_mode": {
    "name": "ipython",
    "version": 3
   },
   "file_extension": ".py",
   "mimetype": "text/x-python",
   "name": "python",
   "nbconvert_exporter": "python",
   "pygments_lexer": "ipython3",
   "version": "3.10.12"
  }
 },
 "nbformat": 4,
 "nbformat_minor": 5
}
