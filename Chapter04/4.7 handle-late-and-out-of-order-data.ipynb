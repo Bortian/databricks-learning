{
 "cells": [
  {
   "cell_type": "code",
   "execution_count": 28,
   "id": "54f45c54-0b95-4fd9-a180-fe3be96ab99d",
   "metadata": {},
   "outputs": [],
   "source": [
    "from delta import *\n",
    "from pyspark.sql import SparkSession\n",
    "from pyspark.sql.functions import *\n",
    "from pyspark.sql.types import *"
   ]
  },
  {
   "cell_type": "code",
   "execution_count": 29,
   "id": "e7850eab-3759-491d-a70a-7a02977db101",
   "metadata": {},
   "outputs": [],
   "source": [
    "builder = (SparkSession.builder\n",
    "           .appName(\"handle-late-and-out-of-order-data\")\n",
    "           .master(\"spark://spark-master:7077\")\n",
    "           .config(\"spark.executor.memory\", \"512m\")\n",
    "           .config(\"spark.sql.extensions\", \"io.delta.sql.DeltaSparkSessionExtension\")\n",
    "           .config(\"spark.sql.catalog.spark_catalog\", \"org.apache.spark.sql.delta.catalog.DeltaCatalog\"))\n",
    "\n",
    "spark = configure_spark_with_delta_pip(builder,['org.apache.spark:spark-sql-kafka-0-10_2.12:3.4.1']).getOrCreate()\n",
    "spark.sparkContext.setLogLevel(\"ERROR\")"
   ]
  },
  {
   "cell_type": "code",
   "execution_count": 30,
   "id": "228e8f56-4fd9-497a-947f-8ce968889dc7",
   "metadata": {
    "tags": []
   },
   "outputs": [],
   "source": [
    "df = (spark.readStream\n",
    "      .format(\"kafka\")\n",
    "      .option(\"kafka.bootstrap.servers\", \"kafka:9092\")\n",
    "      .option(\"subscribe\", \"events\")\n",
    "      .option(\"startingOffsets\", \"latest\")\n",
    "      .load())"
   ]
  },
  {
   "cell_type": "code",
   "execution_count": 31,
   "id": "a0e26449-e04a-4cf5-a42f-5594943bd3fa",
   "metadata": {
    "tags": []
   },
   "outputs": [],
   "source": [
    "from pyspark.sql.types import StructType, StructField, IntegerType, StringType, TimestampType\n",
    "schema = StructType([\n",
    "    StructField('user_id', IntegerType(), True),\n",
    "    StructField('event_type', StringType(), True),\n",
    "    StructField('event_time', StringType(), True),\n",
    "    StructField('processing_time', StringType(), True)])\n",
    "\n",
    "df = df.withColumn('value', from_json(col('value').cast(\"STRING\"), schema))"
   ]
  },
  {
   "cell_type": "code",
   "execution_count": 32,
   "id": "f8d3d68c-c3b0-4a8a-91b0-32366f2199fc",
   "metadata": {
    "tags": []
   },
   "outputs": [],
   "source": [
    "from pyspark.sql.functions import col\n",
    "\n",
    "df = (df.select(\n",
    "          col('value.user_id').alias('user_id'),\n",
    "          col('value.event_type').alias('event_type'),\n",
    "          col('value.event_time').alias('event_time'),\n",
    "          col('value.processing_time').alias('processing_time'))\n",
    "      .withColumn(\"event_time\", to_timestamp(col(\"event_time\"), \"MM/dd/yyyy, HH:mm:ss\" ))\n",
    "      .withColumn(\"processing_time\", to_timestamp(col(\"processing_time\"), \"MM/dd/yyyy, HH:mm:ss\"))     )"
   ]
  },
  {
   "cell_type": "code",
   "execution_count": 33,
   "id": "5428d1aa-f807-49f2-9ea3-025083b2b564",
   "metadata": {},
   "outputs": [],
   "source": [
    "# Define the watermark logic for the streaming DataFrame\n",
    "df = df.withWatermark(\"event_time\", \"10 seconds\")"
   ]
  },
  {
   "cell_type": "code",
   "execution_count": 34,
   "id": "b9adbc2f-92f7-4450-8dc0-511b2351e67b",
   "metadata": {},
   "outputs": [],
   "source": [
    "df = (df\n",
    "      .groupBy(window(col(\"event_time\"), \"1 minute\", \"1 minute\"), col(\"user_id\"))\n",
    "      .count().alias(\"NumberOfEvents\"))"
   ]
  },
  {
   "cell_type": "code",
   "execution_count": 35,
   "id": "3b834c0f-d657-4c13-82f2-e636395bdba3",
   "metadata": {},
   "outputs": [
    {
     "name": "stderr",
     "output_type": "stream",
     "text": [
      "                                                                                \r"
     ]
    },
    {
     "name": "stdout",
     "output_type": "stream",
     "text": [
      "-------------------------------------------\n",
      "Batch: 0\n",
      "-------------------------------------------\n",
      "+------+-------+-----+\n",
      "|window|user_id|count|\n",
      "+------+-------+-----+\n",
      "+------+-------+-----+\n",
      "\n"
     ]
    },
    {
     "name": "stderr",
     "output_type": "stream",
     "text": [
      "                                                                                \r"
     ]
    },
    {
     "name": "stdout",
     "output_type": "stream",
     "text": [
      "-------------------------------------------\n",
      "Batch: 1\n",
      "-------------------------------------------\n",
      "+------------------------------------------+-------+-----+\n",
      "|window                                    |user_id|count|\n",
      "+------------------------------------------+-------+-----+\n",
      "|{2023-08-07 14:25:00, 2023-08-07 14:26:00}|10     |2    |\n",
      "|{2023-08-07 14:25:00, 2023-08-07 14:26:00}|5      |1    |\n",
      "+------------------------------------------+-------+-----+\n",
      "\n"
     ]
    },
    {
     "name": "stderr",
     "output_type": "stream",
     "text": [
      "                                                                                \r"
     ]
    },
    {
     "name": "stdout",
     "output_type": "stream",
     "text": [
      "-------------------------------------------\n",
      "Batch: 2\n",
      "-------------------------------------------\n",
      "+------------------------------------------+-------+-----+\n",
      "|window                                    |user_id|count|\n",
      "+------------------------------------------+-------+-----+\n",
      "|{2023-08-07 14:25:00, 2023-08-07 14:26:00}|4      |1    |\n",
      "+------------------------------------------+-------+-----+\n",
      "\n"
     ]
    },
    {
     "name": "stderr",
     "output_type": "stream",
     "text": [
      "                                                                                \r"
     ]
    },
    {
     "name": "stdout",
     "output_type": "stream",
     "text": [
      "-------------------------------------------\n",
      "Batch: 3\n",
      "-------------------------------------------\n",
      "+------------------------------------------+-------+-----+\n",
      "|window                                    |user_id|count|\n",
      "+------------------------------------------+-------+-----+\n",
      "|{2023-08-07 14:25:00, 2023-08-07 14:26:00}|4      |2    |\n",
      "|{2023-08-07 14:25:00, 2023-08-07 14:26:00}|5      |2    |\n",
      "+------------------------------------------+-------+-----+\n",
      "\n"
     ]
    },
    {
     "name": "stderr",
     "output_type": "stream",
     "text": [
      "                                                                                \r"
     ]
    },
    {
     "name": "stdout",
     "output_type": "stream",
     "text": [
      "-------------------------------------------\n",
      "Batch: 4\n",
      "-------------------------------------------\n",
      "+------------------------------------------+-------+-----+\n",
      "|window                                    |user_id|count|\n",
      "+------------------------------------------+-------+-----+\n",
      "|{2023-08-07 14:25:00, 2023-08-07 14:26:00}|3      |1    |\n",
      "+------------------------------------------+-------+-----+\n",
      "\n"
     ]
    },
    {
     "name": "stderr",
     "output_type": "stream",
     "text": [
      "                                                                                \r"
     ]
    },
    {
     "name": "stdout",
     "output_type": "stream",
     "text": [
      "-------------------------------------------\n",
      "Batch: 5\n",
      "-------------------------------------------\n",
      "+------------------------------------------+-------+-----+\n",
      "|window                                    |user_id|count|\n",
      "+------------------------------------------+-------+-----+\n",
      "|{2023-08-07 14:26:00, 2023-08-07 14:27:00}|6      |1    |\n",
      "+------------------------------------------+-------+-----+\n",
      "\n"
     ]
    },
    {
     "name": "stderr",
     "output_type": "stream",
     "text": [
      "                                                                                \r"
     ]
    },
    {
     "name": "stdout",
     "output_type": "stream",
     "text": [
      "-------------------------------------------\n",
      "Batch: 6\n",
      "-------------------------------------------\n",
      "+------------------------------------------+-------+-----+\n",
      "|window                                    |user_id|count|\n",
      "+------------------------------------------+-------+-----+\n",
      "|{2023-08-07 14:25:00, 2023-08-07 14:26:00}|6      |1    |\n",
      "+------------------------------------------+-------+-----+\n",
      "\n"
     ]
    },
    {
     "name": "stderr",
     "output_type": "stream",
     "text": [
      "                                                                                \r"
     ]
    },
    {
     "name": "stdout",
     "output_type": "stream",
     "text": [
      "-------------------------------------------\n",
      "Batch: 7\n",
      "-------------------------------------------\n",
      "+------------------------------------------+-------+-----+\n",
      "|window                                    |user_id|count|\n",
      "+------------------------------------------+-------+-----+\n",
      "|{2023-08-07 14:26:00, 2023-08-07 14:27:00}|1      |1    |\n",
      "+------------------------------------------+-------+-----+\n",
      "\n"
     ]
    },
    {
     "name": "stderr",
     "output_type": "stream",
     "text": [
      "                                                                                \r"
     ]
    },
    {
     "name": "stdout",
     "output_type": "stream",
     "text": [
      "-------------------------------------------\n",
      "Batch: 8\n",
      "-------------------------------------------\n",
      "+------------------------------------------+-------+-----+\n",
      "|window                                    |user_id|count|\n",
      "+------------------------------------------+-------+-----+\n",
      "|{2023-08-07 14:26:00, 2023-08-07 14:27:00}|1      |2    |\n",
      "+------------------------------------------+-------+-----+\n",
      "\n"
     ]
    },
    {
     "name": "stderr",
     "output_type": "stream",
     "text": [
      "                                                                                \r"
     ]
    },
    {
     "name": "stdout",
     "output_type": "stream",
     "text": [
      "-------------------------------------------\n",
      "Batch: 9\n",
      "-------------------------------------------\n",
      "+------------------------------------------+-------+-----+\n",
      "|window                                    |user_id|count|\n",
      "+------------------------------------------+-------+-----+\n",
      "|{2023-08-07 14:26:00, 2023-08-07 14:27:00}|1      |3    |\n",
      "+------------------------------------------+-------+-----+\n",
      "\n"
     ]
    },
    {
     "name": "stderr",
     "output_type": "stream",
     "text": [
      "                                                                                \r"
     ]
    },
    {
     "name": "stdout",
     "output_type": "stream",
     "text": [
      "-------------------------------------------\n",
      "Batch: 10\n",
      "-------------------------------------------\n",
      "+------------------------------------------+-------+-----+\n",
      "|window                                    |user_id|count|\n",
      "+------------------------------------------+-------+-----+\n",
      "|{2023-08-07 14:27:00, 2023-08-07 14:28:00}|6      |1    |\n",
      "+------------------------------------------+-------+-----+\n",
      "\n"
     ]
    },
    {
     "name": "stderr",
     "output_type": "stream",
     "text": [
      "                                                                                \r"
     ]
    },
    {
     "name": "stdout",
     "output_type": "stream",
     "text": [
      "-------------------------------------------\n",
      "Batch: 11\n",
      "-------------------------------------------\n",
      "+------+-------+-----+\n",
      "|window|user_id|count|\n",
      "+------+-------+-----+\n",
      "+------+-------+-----+\n",
      "\n"
     ]
    },
    {
     "name": "stderr",
     "output_type": "stream",
     "text": [
      "                                                                                \r"
     ]
    },
    {
     "name": "stdout",
     "output_type": "stream",
     "text": [
      "-------------------------------------------\n",
      "Batch: 12\n",
      "-------------------------------------------\n",
      "+------------------------------------------+-------+-----+\n",
      "|window                                    |user_id|count|\n",
      "+------------------------------------------+-------+-----+\n",
      "|{2023-08-07 14:27:00, 2023-08-07 14:28:00}|9      |1    |\n",
      "+------------------------------------------+-------+-----+\n",
      "\n"
     ]
    },
    {
     "name": "stderr",
     "output_type": "stream",
     "text": [
      "                                                                                \r"
     ]
    },
    {
     "name": "stdout",
     "output_type": "stream",
     "text": [
      "-------------------------------------------\n",
      "Batch: 13\n",
      "-------------------------------------------\n",
      "+------------------------------------------+-------+-----+\n",
      "|window                                    |user_id|count|\n",
      "+------------------------------------------+-------+-----+\n",
      "|{2023-08-07 14:27:00, 2023-08-07 14:28:00}|9      |2    |\n",
      "+------------------------------------------+-------+-----+\n",
      "\n"
     ]
    },
    {
     "name": "stderr",
     "output_type": "stream",
     "text": [
      "                                                                                \r"
     ]
    },
    {
     "name": "stdout",
     "output_type": "stream",
     "text": [
      "-------------------------------------------\n",
      "Batch: 14\n",
      "-------------------------------------------\n",
      "+------------------------------------------+-------+-----+\n",
      "|window                                    |user_id|count|\n",
      "+------------------------------------------+-------+-----+\n",
      "|{2023-08-07 14:27:00, 2023-08-07 14:28:00}|3      |1    |\n",
      "+------------------------------------------+-------+-----+\n",
      "\n"
     ]
    },
    {
     "name": "stderr",
     "output_type": "stream",
     "text": [
      "                                                                                \r"
     ]
    },
    {
     "name": "stdout",
     "output_type": "stream",
     "text": [
      "-------------------------------------------\n",
      "Batch: 15\n",
      "-------------------------------------------\n",
      "+------+-------+-----+\n",
      "|window|user_id|count|\n",
      "+------+-------+-----+\n",
      "+------+-------+-----+\n",
      "\n"
     ]
    },
    {
     "name": "stderr",
     "output_type": "stream",
     "text": [
      "                                                                                \r"
     ]
    },
    {
     "name": "stdout",
     "output_type": "stream",
     "text": [
      "-------------------------------------------\n",
      "Batch: 16\n",
      "-------------------------------------------\n",
      "+------------------------------------------+-------+-----+\n",
      "|window                                    |user_id|count|\n",
      "+------------------------------------------+-------+-----+\n",
      "|{2023-08-07 14:27:00, 2023-08-07 14:28:00}|4      |1    |\n",
      "+------------------------------------------+-------+-----+\n",
      "\n"
     ]
    },
    {
     "name": "stderr",
     "output_type": "stream",
     "text": [
      "                                                                                \r"
     ]
    },
    {
     "name": "stdout",
     "output_type": "stream",
     "text": [
      "-------------------------------------------\n",
      "Batch: 17\n",
      "-------------------------------------------\n",
      "+------+-------+-----+\n",
      "|window|user_id|count|\n",
      "+------+-------+-----+\n",
      "+------+-------+-----+\n",
      "\n"
     ]
    }
   ],
   "source": [
    "query = (df.writeStream\n",
    "    .outputMode('update')\n",
    "    .format('console')\n",
    "    .option(\"truncate\", False)\n",
    "    .start())"
   ]
  },
  {
   "cell_type": "code",
   "execution_count": 36,
   "id": "4851e696-46cf-4371-aa44-afda5e110cff",
   "metadata": {},
   "outputs": [],
   "source": [
    "query.stop()"
   ]
  },
  {
   "cell_type": "code",
   "execution_count": 37,
   "id": "49bcfa1b-1401-4af6-a031-c5e17e4ad8a3",
   "metadata": {},
   "outputs": [],
   "source": [
    "spark.stop() "
   ]
  },
  {
   "cell_type": "code",
   "execution_count": null,
   "id": "6779dfbf-4561-475a-997f-f951b6418093",
   "metadata": {},
   "outputs": [],
   "source": []
  }
 ],
 "metadata": {
  "kernelspec": {
   "display_name": "Python 3 (ipykernel)",
   "language": "python",
   "name": "python3"
  },
  "language_info": {
   "codemirror_mode": {
    "name": "ipython",
    "version": 3
   },
   "file_extension": ".py",
   "mimetype": "text/x-python",
   "name": "python",
   "nbconvert_exporter": "python",
   "pygments_lexer": "ipython3",
   "version": "3.10.12"
  }
 },
 "nbformat": 4,
 "nbformat_minor": 5
}
