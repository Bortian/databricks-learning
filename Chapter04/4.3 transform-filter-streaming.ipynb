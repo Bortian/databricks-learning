{
 "cells": [
  {
   "cell_type": "code",
   "execution_count": 1,
   "id": "fbec53d8-dd6c-4454-9e9c-8f3063c051f3",
   "metadata": {},
   "outputs": [],
   "source": [
    "from delta import *\n",
    "from pyspark.sql import SparkSession\n",
    "from pyspark.sql.functions import *\n",
    "from pyspark.sql.types import *"
   ]
  },
  {
   "cell_type": "code",
   "execution_count": 2,
   "id": "e7850eab-3759-491d-a70a-7a02977db101",
   "metadata": {},
   "outputs": [
    {
     "name": "stdout",
     "output_type": "stream",
     "text": [
      ":: loading settings :: url = jar:file:/usr/local/lib/python3.10/dist-packages/pyspark/jars/ivy-2.5.1.jar!/org/apache/ivy/core/settings/ivysettings.xml\n"
     ]
    },
    {
     "name": "stderr",
     "output_type": "stream",
     "text": [
      "Ivy Default Cache set to: /root/.ivy2/cache\n",
      "The jars for the packages stored in: /root/.ivy2/jars\n",
      "io.delta#delta-core_2.12 added as a dependency\n",
      "org.apache.spark#spark-sql-kafka-0-10_2.12 added as a dependency\n",
      ":: resolving dependencies :: org.apache.spark#spark-submit-parent-007903a3-b9b0-49f1-ae26-e9223331af98;1.0\n",
      "\tconfs: [default]\n",
      "\tfound io.delta#delta-core_2.12;2.4.0 in central\n",
      "\tfound io.delta#delta-storage;2.4.0 in central\n",
      "\tfound org.antlr#antlr4-runtime;4.9.3 in central\n",
      "\tfound org.apache.spark#spark-sql-kafka-0-10_2.12;3.4.1 in central\n",
      "\tfound org.apache.spark#spark-token-provider-kafka-0-10_2.12;3.4.1 in central\n",
      "\tfound org.apache.kafka#kafka-clients;3.3.2 in central\n",
      "\tfound org.lz4#lz4-java;1.8.0 in central\n",
      "\tfound org.xerial.snappy#snappy-java;1.1.10.1 in central\n",
      "\tfound org.slf4j#slf4j-api;2.0.6 in central\n",
      "\tfound org.apache.hadoop#hadoop-client-runtime;3.3.4 in central\n",
      "\tfound org.apache.hadoop#hadoop-client-api;3.3.4 in central\n",
      "\tfound commons-logging#commons-logging;1.1.3 in central\n",
      "\tfound com.google.code.findbugs#jsr305;3.0.0 in central\n",
      "\tfound org.apache.commons#commons-pool2;2.11.1 in central\n",
      ":: resolution report :: resolve 1687ms :: artifacts dl 133ms\n",
      "\t:: modules in use:\n",
      "\tcom.google.code.findbugs#jsr305;3.0.0 from central in [default]\n",
      "\tcommons-logging#commons-logging;1.1.3 from central in [default]\n",
      "\tio.delta#delta-core_2.12;2.4.0 from central in [default]\n",
      "\tio.delta#delta-storage;2.4.0 from central in [default]\n",
      "\torg.antlr#antlr4-runtime;4.9.3 from central in [default]\n",
      "\torg.apache.commons#commons-pool2;2.11.1 from central in [default]\n",
      "\torg.apache.hadoop#hadoop-client-api;3.3.4 from central in [default]\n",
      "\torg.apache.hadoop#hadoop-client-runtime;3.3.4 from central in [default]\n",
      "\torg.apache.kafka#kafka-clients;3.3.2 from central in [default]\n",
      "\torg.apache.spark#spark-sql-kafka-0-10_2.12;3.4.1 from central in [default]\n",
      "\torg.apache.spark#spark-token-provider-kafka-0-10_2.12;3.4.1 from central in [default]\n",
      "\torg.lz4#lz4-java;1.8.0 from central in [default]\n",
      "\torg.slf4j#slf4j-api;2.0.6 from central in [default]\n",
      "\torg.xerial.snappy#snappy-java;1.1.10.1 from central in [default]\n",
      "\t---------------------------------------------------------------------\n",
      "\t|                  |            modules            ||   artifacts   |\n",
      "\t|       conf       | number| search|dwnlded|evicted|| number|dwnlded|\n",
      "\t---------------------------------------------------------------------\n",
      "\t|      default     |   14  |   0   |   0   |   0   ||   14  |   0   |\n",
      "\t---------------------------------------------------------------------\n",
      ":: retrieving :: org.apache.spark#spark-submit-parent-007903a3-b9b0-49f1-ae26-e9223331af98\n",
      "\tconfs: [default]\n",
      "\t0 artifacts copied, 14 already retrieved (0kB/34ms)\n",
      "23/08/02 10:38:33 WARN NativeCodeLoader: Unable to load native-hadoop library for your platform... using builtin-java classes where applicable\n",
      "Setting default log level to \"WARN\".\n",
      "To adjust logging level use sc.setLogLevel(newLevel). For SparkR, use setLogLevel(newLevel).\n"
     ]
    }
   ],
   "source": [
    "builder = (SparkSession.builder\n",
    "           .appName(\"transform-filter-streaming\")\n",
    "           .master(\"spark://spark-master:7077\")\n",
    "           .config(\"spark.executor.memory\", \"512m\")\n",
    "           .config(\"spark.sql.extensions\", \"io.delta.sql.DeltaSparkSessionExtension\")\n",
    "           .config(\"spark.sql.catalog.spark_catalog\", \"org.apache.spark.sql.delta.catalog.DeltaCatalog\"))\n",
    "\n",
    "spark = configure_spark_with_delta_pip(builder,['org.apache.spark:spark-sql-kafka-0-10_2.12:3.4.1']).getOrCreate()\n",
    "spark.sparkContext.setLogLevel(\"ERROR\")"
   ]
  },
  {
   "cell_type": "code",
   "execution_count": 3,
   "id": "228e8f56-4fd9-497a-947f-8ce968889dc7",
   "metadata": {
    "tags": []
   },
   "outputs": [],
   "source": [
    "df = (spark.readStream\n",
    "      .format(\"kafka\")\n",
    "      .option(\"kafka.bootstrap.servers\", \"kafka:9092\")\n",
    "      .option(\"subscribe\", \"users\")\n",
    "      .option(\"startingOffsets\", \"earliest\")\n",
    "      .load())"
   ]
  },
  {
   "cell_type": "code",
   "execution_count": 4,
   "id": "a0e26449-e04a-4cf5-a42f-5594943bd3fa",
   "metadata": {
    "tags": []
   },
   "outputs": [],
   "source": [
    "from pyspark.sql.types import StructType, StructField, IntegerType, StringType\n",
    "\n",
    "schema = StructType([\n",
    "    StructField('id', IntegerType(), True),\n",
    "    StructField('name', StringType(), True),\n",
    "    StructField('age', IntegerType(), True),\n",
    "    StructField('gender', StringType(), True),\n",
    "    StructField('country', StringType(), True)])\n",
    "\n",
    "df = df.withColumn('value', from_json(col('value').cast(\"STRING\"), schema))"
   ]
  },
  {
   "cell_type": "code",
   "execution_count": 5,
   "id": "f8d3d68c-c3b0-4a8a-91b0-32366f2199fc",
   "metadata": {
    "tags": []
   },
   "outputs": [],
   "source": [
    "from pyspark.sql.functions import col\n",
    "\n",
    "df = df.select(\n",
    "    col('value.id').alias('id'),\n",
    "    col('value.name').alias('name'),\n",
    "    col('value.age').alias('age'),\n",
    "    col('value.gender').alias('gender'),\n",
    "    col('value.country').alias('country'))"
   ]
  },
  {
   "cell_type": "code",
   "execution_count": 6,
   "id": "5c447d82-f3f3-4b78-98b9-cb8e1e79512c",
   "metadata": {
    "tags": []
   },
   "outputs": [],
   "source": [
    "from pyspark.sql.functions import avg\n",
    "\n",
    "df = (df.select('age','country', 'gender').filter(\"age >= 21\").groupBy('country', 'gender').agg(avg('age').alias('avg_age')))"
   ]
  },
  {
   "cell_type": "code",
   "execution_count": 7,
   "id": "718de3b6-5fcd-46cb-b3ce-e8492a382e21",
   "metadata": {},
   "outputs": [
    {
     "name": "stderr",
     "output_type": "stream",
     "text": [
      "                                                                                \r"
     ]
    },
    {
     "name": "stdout",
     "output_type": "stream",
     "text": [
      "-------------------------------------------\n",
      "Batch: 0\n",
      "-------------------------------------------\n",
      "+---------+------+------------------+\n",
      "|  country|gender|           avg_age|\n",
      "+---------+------+------------------+\n",
      "|   Brazil|     F|             43.75|\n",
      "|   Brazil|     M| 44.10112359550562|\n",
      "|      USA|     F| 43.29281767955801|\n",
      "|Australia|     F| 44.05142857142857|\n",
      "|   Canada|     M|43.795180722891565|\n",
      "|       UK|     M|42.011428571428574|\n",
      "|      USA|     M| 42.93069306930693|\n",
      "|    India|     M| 43.69886363636363|\n",
      "|    China|     M| 42.49230769230769|\n",
      "|    China|     F| 44.51829268292683|\n",
      "|   Canada|     F|43.016216216216215|\n",
      "|Australia|     M| 42.25837320574163|\n",
      "|    India|     F| 42.29943502824859|\n",
      "|       UK|     F|  43.3072625698324|\n",
      "+---------+------+------------------+\n",
      "\n"
     ]
    },
    {
     "name": "stderr",
     "output_type": "stream",
     "text": [
      "                                                                                \r"
     ]
    },
    {
     "name": "stdout",
     "output_type": "stream",
     "text": [
      "-------------------------------------------\n",
      "Batch: 1\n",
      "-------------------------------------------\n",
      "+---------+------+------------------+\n",
      "|  country|gender|           avg_age|\n",
      "+---------+------+------------------+\n",
      "|   Brazil|     F|             43.75|\n",
      "|   Brazil|     M| 44.10112359550562|\n",
      "|      USA|     F| 43.29281767955801|\n",
      "|Australia|     F| 44.05142857142857|\n",
      "|   Canada|     M|43.795180722891565|\n",
      "|       UK|     M|42.011428571428574|\n",
      "|      USA|     M| 42.93069306930693|\n",
      "|    India|     M| 43.69886363636363|\n",
      "|    China|     M|42.505102040816325|\n",
      "|    China|     F| 44.51829268292683|\n",
      "|   Canada|     F|43.016216216216215|\n",
      "|Australia|     M| 42.25837320574163|\n",
      "|    India|     F| 42.29943502824859|\n",
      "|       UK|     F|43.333333333333336|\n",
      "+---------+------+------------------+\n",
      "\n"
     ]
    },
    {
     "name": "stderr",
     "output_type": "stream",
     "text": [
      "                                                                                \r"
     ]
    },
    {
     "name": "stdout",
     "output_type": "stream",
     "text": [
      "-------------------------------------------\n",
      "Batch: 2\n",
      "-------------------------------------------\n",
      "+---------+------+------------------+\n",
      "|  country|gender|           avg_age|\n",
      "+---------+------+------------------+\n",
      "|   Brazil|     F|             43.75|\n",
      "|   Brazil|     M| 44.10112359550562|\n",
      "|      USA|     F| 43.29281767955801|\n",
      "|Australia|     F| 44.05142857142857|\n",
      "|   Canada|     M|43.795180722891565|\n",
      "|       UK|     M|42.011428571428574|\n",
      "|      USA|     M| 42.93069306930693|\n",
      "|    India|     M| 43.69886363636363|\n",
      "|    China|     M|42.505102040816325|\n",
      "|    China|     F| 44.51829268292683|\n",
      "|   Canada|     F|43.016216216216215|\n",
      "|Australia|     M|42.319047619047616|\n",
      "|    India|     F| 42.29943502824859|\n",
      "|       UK|     F|43.333333333333336|\n",
      "+---------+------+------------------+\n",
      "\n"
     ]
    },
    {
     "name": "stderr",
     "output_type": "stream",
     "text": [
      "                                                                                \r"
     ]
    },
    {
     "name": "stdout",
     "output_type": "stream",
     "text": [
      "-------------------------------------------\n",
      "Batch: 3\n",
      "-------------------------------------------\n",
      "+---------+------+------------------+\n",
      "|  country|gender|           avg_age|\n",
      "+---------+------+------------------+\n",
      "|   Brazil|     F|             43.75|\n",
      "|   Brazil|     M| 44.10112359550562|\n",
      "|      USA|     F| 43.29281767955801|\n",
      "|Australia|     F| 44.05142857142857|\n",
      "|   Canada|     M|43.795180722891565|\n",
      "|       UK|     M|42.011428571428574|\n",
      "|      USA|     M| 42.93069306930693|\n",
      "|    India|     M| 43.69886363636363|\n",
      "|    China|     M| 42.61421319796954|\n",
      "|    China|     F| 44.51829268292683|\n",
      "|   Canada|     F|43.016216216216215|\n",
      "|Australia|     M|42.319047619047616|\n",
      "|    India|     F| 42.29943502824859|\n",
      "|       UK|     F|43.333333333333336|\n",
      "+---------+------+------------------+\n",
      "\n"
     ]
    },
    {
     "name": "stderr",
     "output_type": "stream",
     "text": [
      "                                                                                \r"
     ]
    },
    {
     "name": "stdout",
     "output_type": "stream",
     "text": [
      "-------------------------------------------\n",
      "Batch: 4\n",
      "-------------------------------------------\n",
      "+---------+------+------------------+\n",
      "|  country|gender|           avg_age|\n",
      "+---------+------+------------------+\n",
      "|   Brazil|     F|             43.75|\n",
      "|   Brazil|     M| 44.10112359550562|\n",
      "|      USA|     F| 43.29281767955801|\n",
      "|Australia|     F| 43.96590909090909|\n",
      "|   Canada|     M|43.795180722891565|\n",
      "|       UK|     M|42.011428571428574|\n",
      "|      USA|     M| 42.93069306930693|\n",
      "|    India|     M| 43.69886363636363|\n",
      "|    China|     M| 42.61421319796954|\n",
      "|    China|     F|44.624242424242425|\n",
      "|   Canada|     F|43.016216216216215|\n",
      "|Australia|     M|42.319047619047616|\n",
      "|    India|     F| 42.29943502824859|\n",
      "|       UK|     F|43.333333333333336|\n",
      "+---------+------+------------------+\n",
      "\n"
     ]
    },
    {
     "name": "stderr",
     "output_type": "stream",
     "text": [
      "                                                                                \r"
     ]
    },
    {
     "name": "stdout",
     "output_type": "stream",
     "text": [
      "-------------------------------------------\n",
      "Batch: 5\n",
      "-------------------------------------------\n",
      "+---------+------+------------------+\n",
      "|  country|gender|           avg_age|\n",
      "+---------+------+------------------+\n",
      "|   Brazil|     F|             43.75|\n",
      "|   Brazil|     M| 44.10112359550562|\n",
      "|      USA|     F| 43.29281767955801|\n",
      "|Australia|     F| 43.96590909090909|\n",
      "|   Canada|     M|43.795180722891565|\n",
      "|       UK|     M|42.011428571428574|\n",
      "|      USA|     M| 42.93069306930693|\n",
      "|    India|     M| 43.69886363636363|\n",
      "|    China|     M| 42.61421319796954|\n",
      "|    China|     F|44.624242424242425|\n",
      "|   Canada|     F| 42.90860215053763|\n",
      "|Australia|     M|42.319047619047616|\n",
      "|    India|     F|42.353932584269664|\n",
      "|       UK|     F|43.333333333333336|\n",
      "+---------+------+------------------+\n",
      "\n"
     ]
    },
    {
     "name": "stderr",
     "output_type": "stream",
     "text": [
      "                                                                                \r"
     ]
    },
    {
     "name": "stdout",
     "output_type": "stream",
     "text": [
      "-------------------------------------------\n",
      "Batch: 6\n",
      "-------------------------------------------\n",
      "+---------+------+------------------+\n",
      "|  country|gender|           avg_age|\n",
      "+---------+------+------------------+\n",
      "|   Brazil|     F|             43.75|\n",
      "|   Brazil|     M| 44.10112359550562|\n",
      "|      USA|     F| 43.29281767955801|\n",
      "|Australia|     F| 43.89265536723164|\n",
      "|   Canada|     M|43.795180722891565|\n",
      "|       UK|     M|42.011428571428574|\n",
      "|      USA|     M| 42.93069306930693|\n",
      "|    India|     M| 43.69886363636363|\n",
      "|    China|     M| 42.61421319796954|\n",
      "|    China|     F|44.624242424242425|\n",
      "|   Canada|     F| 42.90860215053763|\n",
      "|Australia|     M|42.319047619047616|\n",
      "|    India|     F|42.353932584269664|\n",
      "|       UK|     F|43.333333333333336|\n",
      "+---------+------+------------------+\n",
      "\n"
     ]
    },
    {
     "name": "stderr",
     "output_type": "stream",
     "text": [
      "                                                                                \r"
     ]
    },
    {
     "name": "stdout",
     "output_type": "stream",
     "text": [
      "-------------------------------------------\n",
      "Batch: 7\n",
      "-------------------------------------------\n",
      "+---------+------+------------------+\n",
      "|  country|gender|           avg_age|\n",
      "+---------+------+------------------+\n",
      "|   Brazil|     F|             43.75|\n",
      "|   Brazil|     M| 44.10112359550562|\n",
      "|      USA|     F| 43.29281767955801|\n",
      "|Australia|     F| 43.89265536723164|\n",
      "|   Canada|     M|43.795180722891565|\n",
      "|       UK|     M|42.011428571428574|\n",
      "|      USA|     M| 42.98029556650246|\n",
      "|    India|     M| 43.69886363636363|\n",
      "|    China|     M| 42.61421319796954|\n",
      "|    China|     F|44.624242424242425|\n",
      "|   Canada|     F| 42.90860215053763|\n",
      "|Australia|     M|42.319047619047616|\n",
      "|    India|     F|42.353932584269664|\n",
      "|       UK|     F|43.333333333333336|\n",
      "+---------+------+------------------+\n",
      "\n"
     ]
    },
    {
     "name": "stderr",
     "output_type": "stream",
     "text": [
      "[Stage 17:=================================>                    (125 + 2) / 200]\r"
     ]
    }
   ],
   "source": [
    "query = (df.writeStream\n",
    "    .outputMode('complete')\n",
    "    .format('console')\n",
    "    .start())"
   ]
  },
  {
   "cell_type": "code",
   "execution_count": null,
   "id": "0b2e8c82-b7d3-494e-acae-cd952ae0af63",
   "metadata": {},
   "outputs": [],
   "source": [
    "query.stop()"
   ]
  },
  {
   "cell_type": "code",
   "execution_count": null,
   "id": "49bcfa1b-1401-4af6-a031-c5e17e4ad8a3",
   "metadata": {},
   "outputs": [
    {
     "name": "stderr",
     "output_type": "stream",
     "text": [
      "                                                                                \r"
     ]
    },
    {
     "name": "stdout",
     "output_type": "stream",
     "text": [
      "-------------------------------------------\n",
      "Batch: 10\n",
      "-------------------------------------------\n",
      "+---------+------+------------------+\n",
      "|  country|gender|           avg_age|\n",
      "+---------+------+------------------+\n",
      "|   Brazil|     F|             43.75|\n",
      "|   Brazil|     M| 44.10112359550562|\n",
      "|      USA|     F| 43.29281767955801|\n",
      "|Australia|     F| 43.89265536723164|\n",
      "|   Canada|     M|43.795180722891565|\n",
      "|       UK|     M|42.011428571428574|\n",
      "|      USA|     M| 42.98029556650246|\n",
      "|    India|     M| 43.69886363636363|\n",
      "|    China|     M| 42.61421319796954|\n",
      "|    China|     F| 44.62048192771084|\n",
      "|   Canada|     F| 42.90860215053763|\n",
      "|Australia|     M|42.319047619047616|\n",
      "|    India|     F|42.353932584269664|\n",
      "|       UK|     F|43.324175824175825|\n",
      "+---------+------+------------------+\n",
      "\n"
     ]
    },
    {
     "name": "stderr",
     "output_type": "stream",
     "text": [
      "                                                                                \r"
     ]
    },
    {
     "name": "stdout",
     "output_type": "stream",
     "text": [
      "-------------------------------------------\n",
      "Batch: 11\n",
      "-------------------------------------------\n",
      "+---------+------+------------------+\n",
      "|  country|gender|           avg_age|\n",
      "+---------+------+------------------+\n",
      "|   Brazil|     F|             43.75|\n",
      "|   Brazil|     M| 44.10112359550562|\n",
      "|      USA|     F| 43.29281767955801|\n",
      "|Australia|     F| 43.78651685393258|\n",
      "|   Canada|     M|43.795180722891565|\n",
      "|       UK|     M|42.011428571428574|\n",
      "|      USA|     M| 42.98029556650246|\n",
      "|    India|     M| 43.69886363636363|\n",
      "|    China|     M| 42.61421319796954|\n",
      "|    China|     F| 44.62048192771084|\n",
      "|   Canada|     F| 42.90860215053763|\n",
      "|Australia|     M|42.319047619047616|\n",
      "|    India|     F|42.353932584269664|\n",
      "|       UK|     F|43.324175824175825|\n",
      "+---------+------+------------------+\n",
      "\n"
     ]
    }
   ],
   "source": [
    "spark.stop() "
   ]
  },
  {
   "cell_type": "code",
   "execution_count": null,
   "id": "6779dfbf-4561-475a-997f-f951b6418093",
   "metadata": {},
   "outputs": [],
   "source": []
  }
 ],
 "metadata": {
  "kernelspec": {
   "display_name": "Python 3 (ipykernel)",
   "language": "python",
   "name": "python3"
  },
  "language_info": {
   "codemirror_mode": {
    "name": "ipython",
    "version": 3
   },
   "file_extension": ".py",
   "mimetype": "text/x-python",
   "name": "python",
   "nbconvert_exporter": "python",
   "pygments_lexer": "ipython3",
   "version": "3.10.12"
  }
 },
 "nbformat": 4,
 "nbformat_minor": 5
}
