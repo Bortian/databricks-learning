{
 "cells": [
  {
   "cell_type": "code",
   "execution_count": 1,
   "id": "54f45c54-0b95-4fd9-a180-fe3be96ab99d",
   "metadata": {},
   "outputs": [],
   "source": [
    "from delta import *\n",
    "from pyspark.sql import SparkSession\n",
    "from pyspark.sql.functions import *\n",
    "from pyspark.sql.types import *"
   ]
  },
  {
   "cell_type": "code",
   "execution_count": 2,
   "id": "e7850eab-3759-491d-a70a-7a02977db101",
   "metadata": {},
   "outputs": [
    {
     "name": "stdout",
     "output_type": "stream",
     "text": [
      ":: loading settings :: url = jar:file:/usr/local/lib/python3.10/dist-packages/pyspark/jars/ivy-2.5.1.jar!/org/apache/ivy/core/settings/ivysettings.xml\n"
     ]
    },
    {
     "name": "stderr",
     "output_type": "stream",
     "text": [
      "Ivy Default Cache set to: /root/.ivy2/cache\n",
      "The jars for the packages stored in: /root/.ivy2/jars\n",
      "io.delta#delta-core_2.12 added as a dependency\n",
      "org.apache.spark#spark-sql-kafka-0-10_2.12 added as a dependency\n",
      ":: resolving dependencies :: org.apache.spark#spark-submit-parent-b3f72218-3cd8-4123-b6d8-1d38d802596a;1.0\n",
      "\tconfs: [default]\n",
      "\tfound io.delta#delta-core_2.12;2.4.0 in central\n",
      "\tfound io.delta#delta-storage;2.4.0 in central\n",
      "\tfound org.antlr#antlr4-runtime;4.9.3 in central\n",
      "\tfound org.apache.spark#spark-sql-kafka-0-10_2.12;3.4.1 in central\n",
      "\tfound org.apache.spark#spark-token-provider-kafka-0-10_2.12;3.4.1 in central\n",
      "\tfound org.apache.kafka#kafka-clients;3.3.2 in central\n",
      "\tfound org.lz4#lz4-java;1.8.0 in central\n",
      "\tfound org.xerial.snappy#snappy-java;1.1.10.1 in central\n",
      "\tfound org.slf4j#slf4j-api;2.0.6 in central\n",
      "\tfound org.apache.hadoop#hadoop-client-runtime;3.3.4 in central\n",
      "\tfound org.apache.hadoop#hadoop-client-api;3.3.4 in central\n",
      "\tfound commons-logging#commons-logging;1.1.3 in central\n",
      "\tfound com.google.code.findbugs#jsr305;3.0.0 in central\n",
      "\tfound org.apache.commons#commons-pool2;2.11.1 in central\n",
      ":: resolution report :: resolve 1741ms :: artifacts dl 87ms\n",
      "\t:: modules in use:\n",
      "\tcom.google.code.findbugs#jsr305;3.0.0 from central in [default]\n",
      "\tcommons-logging#commons-logging;1.1.3 from central in [default]\n",
      "\tio.delta#delta-core_2.12;2.4.0 from central in [default]\n",
      "\tio.delta#delta-storage;2.4.0 from central in [default]\n",
      "\torg.antlr#antlr4-runtime;4.9.3 from central in [default]\n",
      "\torg.apache.commons#commons-pool2;2.11.1 from central in [default]\n",
      "\torg.apache.hadoop#hadoop-client-api;3.3.4 from central in [default]\n",
      "\torg.apache.hadoop#hadoop-client-runtime;3.3.4 from central in [default]\n",
      "\torg.apache.kafka#kafka-clients;3.3.2 from central in [default]\n",
      "\torg.apache.spark#spark-sql-kafka-0-10_2.12;3.4.1 from central in [default]\n",
      "\torg.apache.spark#spark-token-provider-kafka-0-10_2.12;3.4.1 from central in [default]\n",
      "\torg.lz4#lz4-java;1.8.0 from central in [default]\n",
      "\torg.slf4j#slf4j-api;2.0.6 from central in [default]\n",
      "\torg.xerial.snappy#snappy-java;1.1.10.1 from central in [default]\n",
      "\t---------------------------------------------------------------------\n",
      "\t|                  |            modules            ||   artifacts   |\n",
      "\t|       conf       | number| search|dwnlded|evicted|| number|dwnlded|\n",
      "\t---------------------------------------------------------------------\n",
      "\t|      default     |   14  |   0   |   0   |   0   ||   14  |   0   |\n",
      "\t---------------------------------------------------------------------\n",
      ":: retrieving :: org.apache.spark#spark-submit-parent-b3f72218-3cd8-4123-b6d8-1d38d802596a\n",
      "\tconfs: [default]\n",
      "\t0 artifacts copied, 14 already retrieved (0kB/42ms)\n",
      "23/08/04 11:00:58 WARN NativeCodeLoader: Unable to load native-hadoop library for your platform... using builtin-java classes where applicable\n",
      "Setting default log level to \"WARN\".\n",
      "To adjust logging level use sc.setLogLevel(newLevel). For SparkR, use setLogLevel(newLevel).\n"
     ]
    }
   ],
   "source": [
    "builder = (SparkSession.builder\n",
    "           .appName(\"config-triggers\")\n",
    "           .master(\"spark://spark-master:7077\")\n",
    "           .config(\"spark.executor.memory\", \"512m\")\n",
    "           .config(\"spark.sql.extensions\", \"io.delta.sql.DeltaSparkSessionExtension\")\n",
    "           .config(\"spark.sql.catalog.spark_catalog\", \"org.apache.spark.sql.delta.catalog.DeltaCatalog\"))\n",
    "\n",
    "spark = configure_spark_with_delta_pip(builder,['org.apache.spark:spark-sql-kafka-0-10_2.12:3.4.1']).getOrCreate()\n",
    "spark.sparkContext.setLogLevel(\"ERROR\")"
   ]
  },
  {
   "cell_type": "code",
   "execution_count": 3,
   "id": "bd909d80-b814-4783-80b2-da272d2c79fa",
   "metadata": {},
   "outputs": [],
   "source": [
    "get_ipython().run_line_magic('load_ext', 'sparksql_magic')\n",
    "get_ipython().run_line_magic('config', 'SparkSql.limit=20')"
   ]
  },
  {
   "cell_type": "code",
   "execution_count": 4,
   "id": "228e8f56-4fd9-497a-947f-8ce968889dc7",
   "metadata": {
    "tags": []
   },
   "outputs": [],
   "source": [
    "df = (spark.readStream\n",
    "      .format(\"kafka\")\n",
    "      .option(\"kafka.bootstrap.servers\", \"kafka:9092\")\n",
    "      .option(\"subscribe\", \"users\")\n",
    "      .option(\"startingOffsets\", \"earliest\")\n",
    "      .load())"
   ]
  },
  {
   "cell_type": "code",
   "execution_count": 5,
   "id": "a0e26449-e04a-4cf5-a42f-5594943bd3fa",
   "metadata": {
    "tags": []
   },
   "outputs": [],
   "source": [
    "from pyspark.sql.types import StructType, StructField, IntegerType, StringType\n",
    "\n",
    "schema = StructType([\n",
    "    StructField('id', IntegerType(), True),\n",
    "    StructField('name', StringType(), True),\n",
    "    StructField('age', IntegerType(), True),\n",
    "    StructField('gender', StringType(), True),\n",
    "    StructField('country', StringType(), True)])\n",
    "\n",
    "df = df.withColumn('value', from_json(col('value').cast(\"STRING\"), schema))"
   ]
  },
  {
   "cell_type": "code",
   "execution_count": 6,
   "id": "f8d3d68c-c3b0-4a8a-91b0-32366f2199fc",
   "metadata": {
    "tags": []
   },
   "outputs": [],
   "source": [
    "from pyspark.sql.functions import col\n",
    "\n",
    "df = df.select(\n",
    "    col('value.id').alias('id'),\n",
    "    col('value.name').alias('name'),\n",
    "    col('value.age').alias('age'),\n",
    "    col('value.gender').alias('gender'),\n",
    "    col('value.country').alias('country'))"
   ]
  },
  {
   "cell_type": "code",
   "execution_count": 7,
   "id": "54d78eab-2e32-429b-954e-4140e7cafb60",
   "metadata": {},
   "outputs": [
    {
     "name": "stderr",
     "output_type": "stream",
     "text": [
      "                                                                                \r"
     ]
    },
    {
     "name": "stdout",
     "output_type": "stream",
     "text": [
      "-------------------------------------------\n",
      "Batch: 0\n",
      "-------------------------------------------\n",
      "+---+-------+---+------+---------+\n",
      "| id|   name|age|gender|  country|\n",
      "+---+-------+---+------+---------+\n",
      "|100| user43| 65|     F|Australia|\n",
      "| 61| user68| 27|     M|Australia|\n",
      "| 35| user54| 37|     M|   Brazil|\n",
      "|  9| user30| 18|     M|    China|\n",
      "|  9| user82| 24|     M|   Canada|\n",
      "| 22| user40| 19|     F|   Brazil|\n",
      "| 78| user81| 43|     F|Australia|\n",
      "|  4| user90| 60|     F|    China|\n",
      "| 16| user31| 54|     F|Australia|\n",
      "| 36|user100| 48|     M|Australia|\n",
      "| 20| user14| 23|     F|    China|\n",
      "| 82| user21| 60|     M|      USA|\n",
      "| 90| user39| 50|     M|Australia|\n",
      "| 52|  user6| 51|     M|       UK|\n",
      "| 86| user61| 65|     F|       UK|\n",
      "| 46| user38| 46|     F|    China|\n",
      "|  3| user54| 45|     F|   Canada|\n",
      "| 32| user24| 49|     M|       UK|\n",
      "| 29|  user2| 59|     M|    India|\n",
      "| 57| user72| 46|     F|   Brazil|\n",
      "+---+-------+---+------+---------+\n",
      "only showing top 20 rows\n",
      "\n",
      "-------------------------------------------\n",
      "Batch: 1\n",
      "-------------------------------------------\n",
      "+---+------+---+------+-------+\n",
      "| id|  name|age|gender|country|\n",
      "+---+------+---+------+-------+\n",
      "| 89|user27| 56|     F|    USA|\n",
      "+---+------+---+------+-------+\n",
      "\n"
     ]
    }
   ],
   "source": [
    "query = (df.writeStream\n",
    "   .format(\"console\")\n",
    "   .outputMode(\"append\")\n",
    "   .start())"
   ]
  },
  {
   "cell_type": "code",
   "execution_count": 8,
   "id": "bbdd7547-1607-4aa8-9e44-9e82f7356ef4",
   "metadata": {},
   "outputs": [
    {
     "name": "stderr",
     "output_type": "stream",
     "text": [
      "23/08/04 11:01:47 ERROR WriteToDataSourceV2Exec: Data source write support MicroBatchWrite[epoch: 2, writer: ConsoleWriter[numRows=20, truncate=true]] is aborting.\n",
      "23/08/04 11:01:47 ERROR WriteToDataSourceV2Exec: Data source write support MicroBatchWrite[epoch: 2, writer: ConsoleWriter[numRows=20, truncate=true]] aborted.\n"
     ]
    }
   ],
   "source": [
    "query.stop()"
   ]
  },
  {
   "cell_type": "code",
   "execution_count": 12,
   "id": "cd1c2d93-a975-482b-b3f7-7692abafe3d4",
   "metadata": {},
   "outputs": [
    {
     "name": "stderr",
     "output_type": "stream",
     "text": [
      "                                                                                \r"
     ]
    },
    {
     "name": "stdout",
     "output_type": "stream",
     "text": [
      "-------------------------------------------\n",
      "Batch: 0\n",
      "-------------------------------------------\n",
      "+---+-------+---+------+---------+\n",
      "| id|   name|age|gender|  country|\n",
      "+---+-------+---+------+---------+\n",
      "|100| user43| 65|     F|Australia|\n",
      "| 61| user68| 27|     M|Australia|\n",
      "| 35| user54| 37|     M|   Brazil|\n",
      "|  9| user30| 18|     M|    China|\n",
      "|  9| user82| 24|     M|   Canada|\n",
      "| 22| user40| 19|     F|   Brazil|\n",
      "| 78| user81| 43|     F|Australia|\n",
      "|  4| user90| 60|     F|    China|\n",
      "| 16| user31| 54|     F|Australia|\n",
      "| 36|user100| 48|     M|Australia|\n",
      "| 20| user14| 23|     F|    China|\n",
      "| 82| user21| 60|     M|      USA|\n",
      "| 90| user39| 50|     M|Australia|\n",
      "| 52|  user6| 51|     M|       UK|\n",
      "| 86| user61| 65|     F|       UK|\n",
      "| 46| user38| 46|     F|    China|\n",
      "|  3| user54| 45|     F|   Canada|\n",
      "| 32| user24| 49|     M|       UK|\n",
      "| 29|  user2| 59|     M|    India|\n",
      "| 57| user72| 46|     F|   Brazil|\n",
      "+---+-------+---+------+---------+\n",
      "only showing top 20 rows\n",
      "\n"
     ]
    },
    {
     "name": "stderr",
     "output_type": "stream",
     "text": [
      "                                                                                \r"
     ]
    },
    {
     "name": "stdout",
     "output_type": "stream",
     "text": [
      "-------------------------------------------\n",
      "Batch: 1\n",
      "-------------------------------------------\n",
      "+---+------+---+------+---------+\n",
      "| id|  name|age|gender|  country|\n",
      "+---+------+---+------+---------+\n",
      "| 55|user41| 43|     M|   Canada|\n",
      "| 28|user38| 21|     F|    China|\n",
      "| 34|user99| 26|     M|Australia|\n",
      "+---+------+---+------+---------+\n",
      "\n"
     ]
    }
   ],
   "source": [
    "query = (df.writeStream\n",
    "   .format(\"console\")\n",
    "   .outputMode(\"append\")\n",
    "   .trigger(processingTime='30 seconds')\n",
    "   .start())"
   ]
  },
  {
   "cell_type": "code",
   "execution_count": null,
   "id": "4851e696-46cf-4371-aa44-afda5e110cff",
   "metadata": {},
   "outputs": [],
   "source": [
    "query.stop()"
   ]
  },
  {
   "cell_type": "code",
   "execution_count": 14,
   "id": "e7bf97e1-7701-4a28-a587-b828e38ddeec",
   "metadata": {},
   "outputs": [
    {
     "name": "stderr",
     "output_type": "stream",
     "text": [
      "                                                                                \r"
     ]
    },
    {
     "name": "stdout",
     "output_type": "stream",
     "text": [
      "-------------------------------------------\n",
      "Batch: 0\n",
      "-------------------------------------------\n",
      "+---+-------+---+------+---------+\n",
      "| id|   name|age|gender|  country|\n",
      "+---+-------+---+------+---------+\n",
      "|100| user43| 65|     F|Australia|\n",
      "| 61| user68| 27|     M|Australia|\n",
      "| 35| user54| 37|     M|   Brazil|\n",
      "|  9| user30| 18|     M|    China|\n",
      "|  9| user82| 24|     M|   Canada|\n",
      "| 22| user40| 19|     F|   Brazil|\n",
      "| 78| user81| 43|     F|Australia|\n",
      "|  4| user90| 60|     F|    China|\n",
      "| 16| user31| 54|     F|Australia|\n",
      "| 36|user100| 48|     M|Australia|\n",
      "| 20| user14| 23|     F|    China|\n",
      "| 82| user21| 60|     M|      USA|\n",
      "| 90| user39| 50|     M|Australia|\n",
      "| 52|  user6| 51|     M|       UK|\n",
      "| 86| user61| 65|     F|       UK|\n",
      "| 46| user38| 46|     F|    China|\n",
      "|  3| user54| 45|     F|   Canada|\n",
      "| 32| user24| 49|     M|       UK|\n",
      "| 29|  user2| 59|     M|    India|\n",
      "| 57| user72| 46|     F|   Brazil|\n",
      "+---+-------+---+------+---------+\n",
      "only showing top 20 rows\n",
      "\n"
     ]
    }
   ],
   "source": [
    "query = (df.writeStream\n",
    "   .format(\"console\")\n",
    "   .outputMode(\"append\")\n",
    "   .trigger(once=True)\n",
    "   .start())"
   ]
  },
  {
   "cell_type": "code",
   "execution_count": 15,
   "id": "49bcfa1b-1401-4af6-a031-c5e17e4ad8a3",
   "metadata": {},
   "outputs": [],
   "source": [
    "query.stop() "
   ]
  },
  {
   "cell_type": "code",
   "execution_count": null,
   "id": "6779dfbf-4561-475a-997f-f951b6418093",
   "metadata": {},
   "outputs": [],
   "source": [
    "spark.stop() "
   ]
  }
 ],
 "metadata": {
  "kernelspec": {
   "display_name": "Python 3 (ipykernel)",
   "language": "python",
   "name": "python3"
  },
  "language_info": {
   "codemirror_mode": {
    "name": "ipython",
    "version": 3
   },
   "file_extension": ".py",
   "mimetype": "text/x-python",
   "name": "python",
   "nbconvert_exporter": "python",
   "pygments_lexer": "ipython3",
   "version": "3.10.12"
  }
 },
 "nbformat": 4,
 "nbformat_minor": 5
}
