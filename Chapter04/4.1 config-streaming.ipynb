{
 "cells": [
  {
   "cell_type": "code",
   "execution_count": 7,
   "id": "54f45c54-0b95-4fd9-a180-fe3be96ab99d",
   "metadata": {},
   "outputs": [],
   "source": [
    "from delta import *\n",
    "from pyspark.sql import SparkSession\n",
    "from pyspark.sql.functions import *\n",
    "from pyspark.sql.types import *"
   ]
  },
  {
   "cell_type": "code",
   "execution_count": 8,
   "id": "e7850eab-3759-491d-a70a-7a02977db101",
   "metadata": {},
   "outputs": [],
   "source": [
    "builder = (SparkSession.builder\n",
    "           .appName(\"config-streaming\")\n",
    "           .master(\"spark://spark-master:7077\")\n",
    "           .config(\"spark.executor.memory\", \"512m\")   \n",
    "           .config(\"spark.sql.extensions\", \"io.delta.sql.DeltaSparkSessionExtension\")\n",
    "           .config(\"spark.sql.catalog.spark_catalog\", \"org.apache.spark.sql.delta.catalog.DeltaCatalog\"))\n",
    "\n",
    "spark = configure_spark_with_delta_pip(builder).getOrCreate()\n",
    "spark.sparkContext.setLogLevel(\"ERROR\")"
   ]
  },
  {
   "cell_type": "code",
   "execution_count": 9,
   "id": "228e8f56-4fd9-497a-947f-8ce968889dc7",
   "metadata": {
    "tags": []
   },
   "outputs": [],
   "source": [
    "# Create DataFrame representing the stream of input lines from connection to localhost:9999\n",
    "lines = (spark.readStream\n",
    "         .format(\"socket\")\n",
    "         .option(\"host\", \"localhost\")\n",
    "         .option(\"port\", 9999)\n",
    "         .load())"
   ]
  },
  {
   "cell_type": "code",
   "execution_count": 10,
   "id": "a0e26449-e04a-4cf5-a42f-5594943bd3fa",
   "metadata": {
    "tags": []
   },
   "outputs": [],
   "source": [
    "# Split the lines into words\n",
    "words = lines.select(\n",
    "   explode(split(lines.value, \" \")).alias(\"word\"))"
   ]
  },
  {
   "cell_type": "code",
   "execution_count": 11,
   "id": "f8d3d68c-c3b0-4a8a-91b0-32366f2199fc",
   "metadata": {
    "tags": []
   },
   "outputs": [],
   "source": [
    "# Generate running word count\n",
    "wordCounts = words.groupBy(\"word\").count()"
   ]
  },
  {
   "cell_type": "code",
   "execution_count": 12,
   "id": "5c447d82-f3f3-4b78-98b9-cb8e1e79512c",
   "metadata": {
    "tags": []
   },
   "outputs": [
    {
     "name": "stderr",
     "output_type": "stream",
     "text": [
      "                                                                                \r"
     ]
    },
    {
     "name": "stdout",
     "output_type": "stream",
     "text": [
      "-------------------------------------------\n",
      "Batch: 0\n",
      "-------------------------------------------\n",
      "+----+-----+\n",
      "|word|count|\n",
      "+----+-----+\n",
      "+----+-----+\n",
      "\n"
     ]
    },
    {
     "name": "stderr",
     "output_type": "stream",
     "text": [
      "                                                                                \r"
     ]
    },
    {
     "name": "stdout",
     "output_type": "stream",
     "text": [
      "-------------------------------------------\n",
      "Batch: 1\n",
      "-------------------------------------------\n",
      "+------------+-----+\n",
      "|        word|count|\n",
      "+------------+-----+\n",
      "|        Data|    2|\n",
      "|    overview|    1|\n",
      "|     models.|    1|\n",
      "|Fundamentals|    1|\n",
      "|      stream|    1|\n",
      "|       solve|    1|\n",
      "|         you|    1|\n",
      "|   landscape|    1|\n",
      "|    systems.|    1|\n",
      "|replication,|    1|\n",
      "|         for|    1|\n",
      "|         Joe|    1|\n",
      "|  tolerance,|    1|\n",
      "|    provides|    1|\n",
      "|        Reis|    1|\n",
      "|      topics|    1|\n",
      "|   practices|    1|\n",
      "|     concise|    1|\n",
      "| distributed|    1|\n",
      "|        your|    1|\n",
      "+------------+-----+\n",
      "only showing top 20 rows\n",
      "\n"
     ]
    },
    {
     "name": "stderr",
     "output_type": "stream",
     "text": [
      "                                                                                \r"
     ]
    },
    {
     "name": "stdout",
     "output_type": "stream",
     "text": [
      "-------------------------------------------\n",
      "Batch: 2\n",
      "-------------------------------------------\n",
      "+------------+-----+\n",
      "|        word|count|\n",
      "+------------+-----+\n",
      "|   Dynamical|    1|\n",
      "|        Data|    2|\n",
      "|     complex|    1|\n",
      "|    overview|    1|\n",
      "|     models.|    1|\n",
      "|     Science|    1|\n",
      "|Fundamentals|    1|\n",
      "|      stream|    1|\n",
      "|      Nathan|    1|\n",
      "|          by|    1|\n",
      "|       solve|    2|\n",
      "|         you|    2|\n",
      "|   landscape|    1|\n",
      "|          L.|    1|\n",
      "|    systems.|    1|\n",
      "|       apply|    1|\n",
      "|replication,|    1|\n",
      "|         for|    1|\n",
      "|         Joe|    1|\n",
      "|         how|    1|\n",
      "+------------+-----+\n",
      "only showing top 20 rows\n",
      "\n"
     ]
    }
   ],
   "source": [
    " # Start running the query that prints the running counts to the console\n",
    "query = (wordCounts.writeStream\n",
    "         .outputMode(\"complete\")\n",
    "         .format(\"console\")\n",
    "         .start())"
   ]
  },
  {
   "cell_type": "code",
   "execution_count": 14,
   "id": "bbdd7547-1607-4aa8-9e44-9e82f7356ef4",
   "metadata": {},
   "outputs": [],
   "source": [
    "query.stop()"
   ]
  },
  {
   "cell_type": "code",
   "execution_count": null,
   "id": "3fb39cc3-e38d-4bcb-96d3-7493e83f8c42",
   "metadata": {},
   "outputs": [],
   "source": [
    "spark.stop()"
   ]
  }
 ],
 "metadata": {
  "kernelspec": {
   "display_name": "Python 3 (ipykernel)",
   "language": "python",
   "name": "python3"
  },
  "language_info": {
   "codemirror_mode": {
    "name": "ipython",
    "version": 3
   },
   "file_extension": ".py",
   "mimetype": "text/x-python",
   "name": "python",
   "nbconvert_exporter": "python",
   "pygments_lexer": "ipython3",
   "version": "3.10.12"
  }
 },
 "nbformat": 4,
 "nbformat_minor": 5
}
