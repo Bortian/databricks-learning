{
 "cells": [
  {
   "cell_type": "code",
   "execution_count": 1,
   "id": "54f45c54-0b95-4fd9-a180-fe3be96ab99d",
   "metadata": {},
   "outputs": [],
   "source": [
    "from delta import *\n",
    "from pyspark.sql import SparkSession\n",
    "from pyspark.sql.functions import *\n",
    "from pyspark.sql.types import *"
   ]
  },
  {
   "cell_type": "code",
   "execution_count": 2,
   "id": "e7850eab-3759-491d-a70a-7a02977db101",
   "metadata": {},
   "outputs": [
    {
     "name": "stdout",
     "output_type": "stream",
     "text": [
      ":: loading settings :: url = jar:file:/usr/local/lib/python3.10/dist-packages/pyspark/jars/ivy-2.5.1.jar!/org/apache/ivy/core/settings/ivysettings.xml\n"
     ]
    },
    {
     "name": "stderr",
     "output_type": "stream",
     "text": [
      "Ivy Default Cache set to: /root/.ivy2/cache\n",
      "The jars for the packages stored in: /root/.ivy2/jars\n",
      "io.delta#delta-core_2.12 added as a dependency\n",
      "org.apache.spark#spark-sql-kafka-0-10_2.12 added as a dependency\n",
      ":: resolving dependencies :: org.apache.spark#spark-submit-parent-2bb06318-20cc-4719-973d-73a145ece7b5;1.0\n",
      "\tconfs: [default]\n",
      "\tfound io.delta#delta-core_2.12;2.4.0 in central\n",
      "\tfound io.delta#delta-storage;2.4.0 in central\n",
      "\tfound org.antlr#antlr4-runtime;4.9.3 in central\n",
      "\tfound org.apache.spark#spark-sql-kafka-0-10_2.12;3.4.1 in central\n",
      "\tfound org.apache.spark#spark-token-provider-kafka-0-10_2.12;3.4.1 in central\n",
      "\tfound org.apache.kafka#kafka-clients;3.3.2 in central\n",
      "\tfound org.lz4#lz4-java;1.8.0 in central\n",
      "\tfound org.xerial.snappy#snappy-java;1.1.10.1 in central\n",
      "\tfound org.slf4j#slf4j-api;2.0.6 in central\n",
      "\tfound org.apache.hadoop#hadoop-client-runtime;3.3.4 in central\n",
      "\tfound org.apache.hadoop#hadoop-client-api;3.3.4 in central\n",
      "\tfound commons-logging#commons-logging;1.1.3 in central\n",
      "\tfound com.google.code.findbugs#jsr305;3.0.0 in central\n",
      "\tfound org.apache.commons#commons-pool2;2.11.1 in central\n",
      ":: resolution report :: resolve 786ms :: artifacts dl 33ms\n",
      "\t:: modules in use:\n",
      "\tcom.google.code.findbugs#jsr305;3.0.0 from central in [default]\n",
      "\tcommons-logging#commons-logging;1.1.3 from central in [default]\n",
      "\tio.delta#delta-core_2.12;2.4.0 from central in [default]\n",
      "\tio.delta#delta-storage;2.4.0 from central in [default]\n",
      "\torg.antlr#antlr4-runtime;4.9.3 from central in [default]\n",
      "\torg.apache.commons#commons-pool2;2.11.1 from central in [default]\n",
      "\torg.apache.hadoop#hadoop-client-api;3.3.4 from central in [default]\n",
      "\torg.apache.hadoop#hadoop-client-runtime;3.3.4 from central in [default]\n",
      "\torg.apache.kafka#kafka-clients;3.3.2 from central in [default]\n",
      "\torg.apache.spark#spark-sql-kafka-0-10_2.12;3.4.1 from central in [default]\n",
      "\torg.apache.spark#spark-token-provider-kafka-0-10_2.12;3.4.1 from central in [default]\n",
      "\torg.lz4#lz4-java;1.8.0 from central in [default]\n",
      "\torg.slf4j#slf4j-api;2.0.6 from central in [default]\n",
      "\torg.xerial.snappy#snappy-java;1.1.10.1 from central in [default]\n",
      "\t---------------------------------------------------------------------\n",
      "\t|                  |            modules            ||   artifacts   |\n",
      "\t|       conf       | number| search|dwnlded|evicted|| number|dwnlded|\n",
      "\t---------------------------------------------------------------------\n",
      "\t|      default     |   14  |   0   |   0   |   0   ||   14  |   0   |\n",
      "\t---------------------------------------------------------------------\n",
      ":: retrieving :: org.apache.spark#spark-submit-parent-2bb06318-20cc-4719-973d-73a145ece7b5\n",
      "\tconfs: [default]\n",
      "\t0 artifacts copied, 14 already retrieved (0kB/16ms)\n",
      "23/08/26 11:49:27 WARN NativeCodeLoader: Unable to load native-hadoop library for your platform... using builtin-java classes where applicable\n",
      "Setting default log level to \"WARN\".\n",
      "To adjust logging level use sc.setLogLevel(newLevel). For SparkR, use setLogLevel(newLevel).\n"
     ]
    }
   ],
   "source": [
    "builder = (SparkSession.builder\n",
    "           .appName(\"merge-cdc-streaming\")\n",
    "           .master(\"spark://spark-master:7077\")\n",
    "           .config(\"spark.executor.memory\", \"512m\")\n",
    "           .config(\"spark.sql.extensions\", \"io.delta.sql.DeltaSparkSessionExtension\")\n",
    "           .config(\"spark.sql.catalog.spark_catalog\", \"org.apache.spark.sql.delta.catalog.DeltaCatalog\"))\n",
    "\n",
    "spark = configure_spark_with_delta_pip(builder,['org.apache.spark:spark-sql-kafka-0-10_2.12:3.4.1']).getOrCreate()\n",
    "spark.sparkContext.setLogLevel(\"ERROR\")"
   ]
  },
  {
   "cell_type": "code",
   "execution_count": 3,
   "id": "bd909d80-b814-4783-80b2-da272d2c79fa",
   "metadata": {},
   "outputs": [],
   "source": [
    "get_ipython().run_line_magic('load_ext', 'sparksql_magic')\n",
    "get_ipython().run_line_magic('config', 'SparkSql.limit=20')"
   ]
  },
  {
   "cell_type": "code",
   "execution_count": 4,
   "id": "68da1a17-ffb1-445f-aee6-3f697ac7b3e5",
   "metadata": {},
   "outputs": [
    {
     "name": "stderr",
     "output_type": "stream",
     "text": [
      "                                                                                \r"
     ]
    },
    {
     "data": {
      "text/html": [
       "<table><tr style=\"border-bottom: 1px solid\"></tr></table>"
      ],
      "text/plain": [
       "<IPython.core.display.HTML object>"
      ]
     },
     "execution_count": 4,
     "metadata": {},
     "output_type": "execute_result"
    }
   ],
   "source": [
    "%%sparksql\n",
    "CREATE OR REPLACE TABLE default.users (\n",
    "    id INT,\n",
    "    name STRING,\n",
    "    age INT,\n",
    "    gender STRING,\n",
    "    country STRING \n",
    ") USING DELTA LOCATION '/opt/workspace/data/delta_lake/merge-cdc-streaming/users';"
   ]
  },
  {
   "cell_type": "code",
   "execution_count": 5,
   "id": "228e8f56-4fd9-497a-947f-8ce968889dc7",
   "metadata": {
    "tags": []
   },
   "outputs": [],
   "source": [
    "df = (spark.readStream\n",
    "      .format(\"kafka\")\n",
    "      .option(\"kafka.bootstrap.servers\", \"kafka:9092\")\n",
    "      .option(\"subscribe\", \"users\")\n",
    "      .option(\"startingOffsets\", \"earliest\")\n",
    "      .load())"
   ]
  },
  {
   "cell_type": "code",
   "execution_count": 6,
   "id": "a0e26449-e04a-4cf5-a42f-5594943bd3fa",
   "metadata": {
    "tags": []
   },
   "outputs": [],
   "source": [
    "from pyspark.sql.types import StructType, StructField, IntegerType, StringType\n",
    "\n",
    "schema = StructType([\n",
    "    StructField('id', IntegerType(), True),\n",
    "    StructField('name', StringType(), True),\n",
    "    StructField('age', IntegerType(), True),\n",
    "    StructField('gender', StringType(), True),\n",
    "    StructField('country', StringType(), True)])\n",
    "\n",
    "df = df.withColumn('value', from_json(col('value').cast(\"STRING\"), schema))"
   ]
  },
  {
   "cell_type": "code",
   "execution_count": 7,
   "id": "f8d3d68c-c3b0-4a8a-91b0-32366f2199fc",
   "metadata": {
    "tags": []
   },
   "outputs": [],
   "source": [
    "from pyspark.sql.functions import col\n",
    "\n",
    "df = df.select(\n",
    "    col('value.id').alias('id'),\n",
    "    col('value.name').alias('name'),\n",
    "    col('value.age').alias('age'),\n",
    "    col('value.gender').alias('gender'),\n",
    "    col('value.country').alias('country'))"
   ]
  },
  {
   "cell_type": "code",
   "execution_count": 8,
   "id": "ab894c75-f6b9-452b-95cf-10a45270fb82",
   "metadata": {},
   "outputs": [],
   "source": [
    "def upsertToDelta(microBatchDf, batchId):\n",
    "    deltaTable = DeltaTable.forPath(spark, \"/opt/workspace/data/delta_lake/merge-cdc-streaming/users\" )\n",
    "    (deltaTable.alias(\"dt\")\n",
    "     .merge(source=microBatchDf.alias(\"sdf\"),\n",
    "          condition=\"sdf.id = dt.id\")\n",
    "     .whenMatchedUpdate(set={\n",
    "         \"id\": \"sdf.id\",\n",
    "         \"name\": \"sdf.name\",\n",
    "         \"age\": \"sdf.gender\",\n",
    "         \"country\": \"sdf.country\"\n",
    "     })\n",
    "     .whenNotMatchedInsert(values={\n",
    "         \"id\": \"sdf.id\",\n",
    "         \"name\": \"sdf.name\",\n",
    "         \"age\": \"sdf.gender\",\n",
    "         \"country\": \"sdf.country\"\n",
    "     })\n",
    "    .execute())"
   ]
  },
  {
   "cell_type": "code",
   "execution_count": 9,
   "id": "54d78eab-2e32-429b-954e-4140e7cafb60",
   "metadata": {},
   "outputs": [
    {
     "name": "stderr",
     "output_type": "stream",
     "text": [
      "                                                                                \r"
     ]
    }
   ],
   "source": [
    "query = (df.writeStream\n",
    "         .format(\"delta\")\n",
    "         .foreachBatch(upsertToDelta)\n",
    "         .outputMode(\"update\")\n",
    "         .option(\"checkpointLocation\", \"/opt/workspace/data/delta_lake/merge-cdc-streaming/users/_checkpoints/\")\n",
    "         .start(\"/opt/workspace/data/delta_lake/merge-cdc-streaming/users\"))"
   ]
  },
  {
   "cell_type": "code",
   "execution_count": 10,
   "id": "db57b70b-7939-4c00-b0ca-3928076f9839",
   "metadata": {},
   "outputs": [
    {
     "name": "stderr",
     "output_type": "stream",
     "text": [
      "[Stage 32:========================================>               (36 + 2) / 50]\r"
     ]
    },
    {
     "data": {
      "text/html": [
       "<table><tr style=\"border-bottom: 1px solid\"><td style=\"font-weight: bold\">version</td><td style=\"font-weight: bold\">timestamp</td><td style=\"font-weight: bold\">userId</td><td style=\"font-weight: bold\">userName</td><td style=\"font-weight: bold\">operation</td><td style=\"font-weight: bold\">operationParameters</td><td style=\"font-weight: bold\">job</td><td style=\"font-weight: bold\">notebook</td><td style=\"font-weight: bold\">clusterId</td><td style=\"font-weight: bold\">readVersion</td><td style=\"font-weight: bold\">isolationLevel</td><td style=\"font-weight: bold\">isBlindAppend</td><td style=\"font-weight: bold\">operationMetrics</td><td style=\"font-weight: bold\">userMetadata</td><td style=\"font-weight: bold\">engineInfo</td></tr><tr><td>2</td><td>2023-08-26 11:51:11.377000</td><td>null</td><td>null</td><td>MERGE</td><td>{&#x27;matchedPredicates&#x27;: &#x27;[{&quot;actionType&quot;:&quot;update&quot;}]&#x27;, &#x27;predicate&#x27;: &#x27;[&quot;(id#357 = id#1172)&quot;]&#x27;, &#x27;notMatchedBySourcePredicates&#x27;: &#x27;[]&#x27;, &#x27;notMatchedPredicates&#x27;: &#x27;[{&quot;actionType&quot;:&quot;insert&quot;}]&#x27;}</td><td>null</td><td>null</td><td>null</td><td>1</td><td>Serializable</td><td>False</td><td>{&#x27;numOutputRows&#x27;: &#x27;263&#x27;, &#x27;numTargetBytesAdded&#x27;: &#x27;2822&#x27;, &#x27;numTargetRowsInserted&#x27;: &#x27;0&#x27;, &#x27;numTargetFilesAdded&#x27;: &#x27;1&#x27;, &#x27;numTargetRowsMatchedDeleted&#x27;: &#x27;0&#x27;, &#x27;numTargetFilesRemoved&#x27;: &#x27;1&#x27;, &#x27;numTargetRowsMatchedUpdated&#x27;: &#x27;1&#x27;, &#x27;executionTimeMs&#x27;: &#x27;8758&#x27;, &#x27;numTargetRowsCopied&#x27;: &#x27;262&#x27;, &#x27;rewriteTimeMs&#x27;: &#x27;4588&#x27;, &#x27;numTargetRowsUpdated&#x27;: &#x27;1&#x27;, &#x27;numTargetRowsDeleted&#x27;: &#x27;0&#x27;, &#x27;scanTimeMs&#x27;: &#x27;4126&#x27;, &#x27;numSourceRows&#x27;: &#x27;1&#x27;, &#x27;numTargetChangeFilesAdded&#x27;: &#x27;0&#x27;, &#x27;numTargetRowsNotMatchedBySourceUpdated&#x27;: &#x27;0&#x27;, &#x27;numTargetRowsNotMatchedBySourceDeleted&#x27;: &#x27;0&#x27;, &#x27;numTargetBytesRemoved&#x27;: &#x27;2817&#x27;}</td><td>null</td><td>Apache-Spark/3.4.1 Delta-Lake/2.4.0</td></tr><tr><td>1</td><td>2023-08-26 11:50:56.577000</td><td>null</td><td>null</td><td>MERGE</td><td>{&#x27;matchedPredicates&#x27;: &#x27;[{&quot;actionType&quot;:&quot;update&quot;}]&#x27;, &#x27;predicate&#x27;: &#x27;[&quot;(id#357 = id#387)&quot;]&#x27;, &#x27;notMatchedBySourcePredicates&#x27;: &#x27;[]&#x27;, &#x27;notMatchedPredicates&#x27;: &#x27;[{&quot;actionType&quot;:&quot;insert&quot;}]&#x27;}</td><td>null</td><td>null</td><td>null</td><td>0</td><td>Serializable</td><td>False</td><td>{&#x27;numOutputRows&#x27;: &#x27;263&#x27;, &#x27;numTargetBytesAdded&#x27;: &#x27;2817&#x27;, &#x27;numTargetRowsInserted&#x27;: &#x27;263&#x27;, &#x27;numTargetFilesAdded&#x27;: &#x27;1&#x27;, &#x27;numTargetRowsMatchedDeleted&#x27;: &#x27;0&#x27;, &#x27;numTargetFilesRemoved&#x27;: &#x27;0&#x27;, &#x27;numTargetRowsMatchedUpdated&#x27;: &#x27;0&#x27;, &#x27;executionTimeMs&#x27;: &#x27;7877&#x27;, &#x27;numTargetRowsCopied&#x27;: &#x27;0&#x27;, &#x27;rewriteTimeMs&#x27;: &#x27;2561&#x27;, &#x27;numTargetRowsUpdated&#x27;: &#x27;0&#x27;, &#x27;numTargetRowsDeleted&#x27;: &#x27;0&#x27;, &#x27;scanTimeMs&#x27;: &#x27;5247&#x27;, &#x27;numSourceRows&#x27;: &#x27;263&#x27;, &#x27;numTargetChangeFilesAdded&#x27;: &#x27;0&#x27;, &#x27;numTargetRowsNotMatchedBySourceUpdated&#x27;: &#x27;0&#x27;, &#x27;numTargetRowsNotMatchedBySourceDeleted&#x27;: &#x27;0&#x27;, &#x27;numTargetBytesRemoved&#x27;: &#x27;0&#x27;}</td><td>null</td><td>Apache-Spark/3.4.1 Delta-Lake/2.4.0</td></tr><tr><td>0</td><td>2023-08-26 11:49:41.305000</td><td>null</td><td>null</td><td>CREATE OR REPLACE TABLE</td><td>{&#x27;description&#x27;: None, &#x27;partitionBy&#x27;: &#x27;[]&#x27;, &#x27;properties&#x27;: &#x27;{}&#x27;, &#x27;isManaged&#x27;: &#x27;false&#x27;}</td><td>null</td><td>null</td><td>null</td><td>null</td><td>Serializable</td><td>True</td><td>{}</td><td>null</td><td>Apache-Spark/3.4.1 Delta-Lake/2.4.0</td></tr></table>"
      ],
      "text/plain": [
       "<IPython.core.display.HTML object>"
      ]
     },
     "execution_count": 10,
     "metadata": {},
     "output_type": "execute_result"
    },
    {
     "name": "stderr",
     "output_type": "stream",
     "text": [
      "                                                                                \r"
     ]
    }
   ],
   "source": [
    "%%sparksql\n",
    "DESCRIBE HISTORY delta.`/opt/workspace/data/delta_lake/merge-cdc-streaming/users`;"
   ]
  },
  {
   "cell_type": "code",
   "execution_count": 11,
   "id": "4851e696-46cf-4371-aa44-afda5e110cff",
   "metadata": {},
   "outputs": [],
   "source": [
    "query.stop()"
   ]
  },
  {
   "cell_type": "code",
   "execution_count": 12,
   "id": "49bcfa1b-1401-4af6-a031-c5e17e4ad8a3",
   "metadata": {},
   "outputs": [],
   "source": [
    "spark.stop() "
   ]
  },
  {
   "cell_type": "code",
   "execution_count": null,
   "id": "6c486c6c-b090-42c0-af4c-59ad3a22364b",
   "metadata": {},
   "outputs": [],
   "source": []
  }
 ],
 "metadata": {
  "kernelspec": {
   "display_name": "Python 3 (ipykernel)",
   "language": "python",
   "name": "python3"
  },
  "language_info": {
   "codemirror_mode": {
    "name": "ipython",
    "version": 3
   },
   "file_extension": ".py",
   "mimetype": "text/x-python",
   "name": "python",
   "nbconvert_exporter": "python",
   "pygments_lexer": "ipython3",
   "version": "3.10.12"
  }
 },
 "nbformat": 4,
 "nbformat_minor": 5
}
