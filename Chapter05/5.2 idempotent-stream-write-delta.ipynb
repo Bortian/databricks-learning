{
 "cells": [
  {
   "cell_type": "code",
   "execution_count": 1,
   "id": "54f45c54-0b95-4fd9-a180-fe3be96ab99d",
   "metadata": {},
   "outputs": [],
   "source": [
    "from delta import *\n",
    "from pyspark.sql import SparkSession\n",
    "from pyspark.sql.functions import *\n",
    "from pyspark.sql.types import *"
   ]
  },
  {
   "cell_type": "code",
   "execution_count": 2,
   "id": "e7850eab-3759-491d-a70a-7a02977db101",
   "metadata": {},
   "outputs": [
    {
     "name": "stdout",
     "output_type": "stream",
     "text": [
      ":: loading settings :: url = jar:file:/usr/local/lib/python3.10/dist-packages/pyspark/jars/ivy-2.5.1.jar!/org/apache/ivy/core/settings/ivysettings.xml\n"
     ]
    },
    {
     "name": "stderr",
     "output_type": "stream",
     "text": [
      "Ivy Default Cache set to: /root/.ivy2/cache\n",
      "The jars for the packages stored in: /root/.ivy2/jars\n",
      "io.delta#delta-core_2.12 added as a dependency\n",
      "org.apache.spark#spark-sql-kafka-0-10_2.12 added as a dependency\n",
      ":: resolving dependencies :: org.apache.spark#spark-submit-parent-08474ded-b2d2-406c-aaee-f4111179a167;1.0\n",
      "\tconfs: [default]\n",
      "\tfound io.delta#delta-core_2.12;2.4.0 in central\n",
      "\tfound io.delta#delta-storage;2.4.0 in central\n",
      "\tfound org.antlr#antlr4-runtime;4.9.3 in central\n",
      "\tfound org.apache.spark#spark-sql-kafka-0-10_2.12;3.4.1 in central\n",
      "\tfound org.apache.spark#spark-token-provider-kafka-0-10_2.12;3.4.1 in central\n",
      "\tfound org.apache.kafka#kafka-clients;3.3.2 in central\n",
      "\tfound org.lz4#lz4-java;1.8.0 in central\n",
      "\tfound org.xerial.snappy#snappy-java;1.1.10.1 in central\n",
      "\tfound org.slf4j#slf4j-api;2.0.6 in central\n",
      "\tfound org.apache.hadoop#hadoop-client-runtime;3.3.4 in central\n",
      "\tfound org.apache.hadoop#hadoop-client-api;3.3.4 in central\n",
      "\tfound commons-logging#commons-logging;1.1.3 in central\n",
      "\tfound com.google.code.findbugs#jsr305;3.0.0 in central\n",
      "\tfound org.apache.commons#commons-pool2;2.11.1 in central\n",
      ":: resolution report :: resolve 825ms :: artifacts dl 44ms\n",
      "\t:: modules in use:\n",
      "\tcom.google.code.findbugs#jsr305;3.0.0 from central in [default]\n",
      "\tcommons-logging#commons-logging;1.1.3 from central in [default]\n",
      "\tio.delta#delta-core_2.12;2.4.0 from central in [default]\n",
      "\tio.delta#delta-storage;2.4.0 from central in [default]\n",
      "\torg.antlr#antlr4-runtime;4.9.3 from central in [default]\n",
      "\torg.apache.commons#commons-pool2;2.11.1 from central in [default]\n",
      "\torg.apache.hadoop#hadoop-client-api;3.3.4 from central in [default]\n",
      "\torg.apache.hadoop#hadoop-client-runtime;3.3.4 from central in [default]\n",
      "\torg.apache.kafka#kafka-clients;3.3.2 from central in [default]\n",
      "\torg.apache.spark#spark-sql-kafka-0-10_2.12;3.4.1 from central in [default]\n",
      "\torg.apache.spark#spark-token-provider-kafka-0-10_2.12;3.4.1 from central in [default]\n",
      "\torg.lz4#lz4-java;1.8.0 from central in [default]\n",
      "\torg.slf4j#slf4j-api;2.0.6 from central in [default]\n",
      "\torg.xerial.snappy#snappy-java;1.1.10.1 from central in [default]\n",
      "\t---------------------------------------------------------------------\n",
      "\t|                  |            modules            ||   artifacts   |\n",
      "\t|       conf       | number| search|dwnlded|evicted|| number|dwnlded|\n",
      "\t---------------------------------------------------------------------\n",
      "\t|      default     |   14  |   0   |   0   |   0   ||   14  |   0   |\n",
      "\t---------------------------------------------------------------------\n",
      ":: retrieving :: org.apache.spark#spark-submit-parent-08474ded-b2d2-406c-aaee-f4111179a167\n",
      "\tconfs: [default]\n",
      "\t0 artifacts copied, 14 already retrieved (0kB/22ms)\n",
      "23/08/21 09:58:21 WARN NativeCodeLoader: Unable to load native-hadoop library for your platform... using builtin-java classes where applicable\n",
      "Setting default log level to \"WARN\".\n",
      "To adjust logging level use sc.setLogLevel(newLevel). For SparkR, use setLogLevel(newLevel).\n"
     ]
    }
   ],
   "source": [
    "builder = (SparkSession.builder\n",
    "           .appName(\"idempotent-stream-write-delta\")\n",
    "           .master(\"spark://spark-master:7077\")\n",
    "           .config(\"spark.executor.memory\", \"512m\")\n",
    "           .config(\"spark.sql.extensions\", \"io.delta.sql.DeltaSparkSessionExtension\")\n",
    "           .config(\"spark.sql.catalog.spark_catalog\", \"org.apache.spark.sql.delta.catalog.DeltaCatalog\"))\n",
    "\n",
    "spark = configure_spark_with_delta_pip(builder,['org.apache.spark:spark-sql-kafka-0-10_2.12:3.4.1']).getOrCreate()\n",
    "spark.sparkContext.setLogLevel(\"ERROR\")"
   ]
  },
  {
   "cell_type": "code",
   "execution_count": 4,
   "id": "bd909d80-b814-4783-80b2-da272d2c79fa",
   "metadata": {},
   "outputs": [
    {
     "name": "stdout",
     "output_type": "stream",
     "text": [
      "The sparksql_magic extension is already loaded. To reload it, use:\n",
      "  %reload_ext sparksql_magic\n"
     ]
    }
   ],
   "source": [
    "get_ipython().run_line_magic('load_ext', 'sparksql_magic')\n",
    "get_ipython().run_line_magic('config', 'SparkSql.limit=20')"
   ]
  },
  {
   "cell_type": "code",
   "execution_count": 5,
   "id": "68da1a17-ffb1-445f-aee6-3f697ac7b3e5",
   "metadata": {},
   "outputs": [
    {
     "name": "stderr",
     "output_type": "stream",
     "text": [
      "                                                                                \r"
     ]
    },
    {
     "data": {
      "text/html": [
       "<table><tr style=\"border-bottom: 1px solid\"></tr></table>"
      ],
      "text/plain": [
       "<IPython.core.display.HTML object>"
      ]
     },
     "execution_count": 5,
     "metadata": {},
     "output_type": "execute_result"
    }
   ],
   "source": [
    "%%sparksql\n",
    "CREATE OR REPLACE TABLE default.users (\n",
    "    id INT,\n",
    "    name STRING,\n",
    "    age INT,\n",
    "    gender STRING,\n",
    "    country STRING \n",
    ") USING DELTA LOCATION '/opt/workspace/data/delta_lake/idempotent-stream-write-delta/users';"
   ]
  },
  {
   "cell_type": "code",
   "execution_count": 6,
   "id": "228e8f56-4fd9-497a-947f-8ce968889dc7",
   "metadata": {
    "tags": []
   },
   "outputs": [],
   "source": [
    "df = (spark.readStream\n",
    "      .format(\"kafka\")\n",
    "      .option(\"kafka.bootstrap.servers\", \"kafka:9092\")\n",
    "      .option(\"subscribe\", \"users\")\n",
    "      .option(\"startingOffsets\", \"earliest\")\n",
    "      .load())"
   ]
  },
  {
   "cell_type": "code",
   "execution_count": 7,
   "id": "a0e26449-e04a-4cf5-a42f-5594943bd3fa",
   "metadata": {
    "tags": []
   },
   "outputs": [],
   "source": [
    "from pyspark.sql.types import StructType, StructField, IntegerType, StringType\n",
    "\n",
    "schema = StructType([\n",
    "    StructField('id', IntegerType(), True),\n",
    "    StructField('name', StringType(), True),\n",
    "    StructField('age', IntegerType(), True),\n",
    "    StructField('gender', StringType(), True),\n",
    "    StructField('country', StringType(), True)])\n",
    "\n",
    "df = df.withColumn('value', from_json(col('value').cast(\"STRING\"), schema))"
   ]
  },
  {
   "cell_type": "code",
   "execution_count": 8,
   "id": "f8d3d68c-c3b0-4a8a-91b0-32366f2199fc",
   "metadata": {
    "tags": []
   },
   "outputs": [],
   "source": [
    "from pyspark.sql.functions import col\n",
    "\n",
    "df = df.select(\n",
    "    col('value.id').alias('id'),\n",
    "    col('value.name').alias('name'),\n",
    "    col('value.age').alias('age'),\n",
    "    col('value.gender').alias('gender'),\n",
    "    col('value.country').alias('country'))"
   ]
  },
  {
   "cell_type": "code",
   "execution_count": 9,
   "id": "54d78eab-2e32-429b-954e-4140e7cafb60",
   "metadata": {},
   "outputs": [
    {
     "name": "stderr",
     "output_type": "stream",
     "text": [
      "                                                                                \r"
     ]
    }
   ],
   "source": [
    "query = (df.writeStream\n",
    "   .format(\"delta\")\n",
    "   .outputMode(\"append\")\n",
    "   .option(\"checkpointLocation\", \"/opt/workspace/data/delta_lake/idempotent-stream-write-delta/users/_checkpoints/\")\n",
    "   .start(\"/opt/workspace/data/delta_lake/idempotent-stream-write-delta/users\"))"
   ]
  },
  {
   "cell_type": "code",
   "execution_count": 10,
   "id": "e0bdd288-8690-42f5-b18a-7758fe2822a7",
   "metadata": {},
   "outputs": [],
   "source": [
    "# Define a function writing to two destinations\n",
    "app_id = 'idempotent-stream-write-delta'\n",
    "def writeToDeltaLakeTableIdempotent(batch_df, batch_id):\n",
    "    # location 1\n",
    "    (batch_df.filter(\"country IN ('India','China')\")\n",
    "     .write\n",
    "     .format(\"delta\")\n",
    "     .mode(\"append\")\n",
    "     .option(\"txnVersion\", batch_id)\n",
    "     .option(\"txnAppId\", app_id)\n",
    "     .save(\"/opt/workspace/data/delta_lake/idempotent-stream-write-delta/user_asia\"))\n",
    "    # location 2\n",
    "    (batch_df.filter(\"country IN ('USA','Canada','Brazil')\")\n",
    "     .write\n",
    "     .format(\"delta\")\n",
    "     .mode(\"append\")\n",
    "     .option(\"txnVersion\", batch_id)\n",
    "     .option(\"txnAppId\", app_id)\n",
    "     .save(\"/opt/workspace/data/delta_lake/idempotent-stream-write-delta/user_americas\"))"
   ]
  },
  {
   "cell_type": "code",
   "execution_count": 11,
   "id": "087b6d77-97ae-4b77-b39c-42a039d05d3a",
   "metadata": {},
   "outputs": [
    {
     "name": "stderr",
     "output_type": "stream",
     "text": [
      "                                                                                \r"
     ]
    }
   ],
   "source": [
    "# Apply the function against the micro-batches using ‘foreachBatch’\n",
    "write_query = (df\n",
    " .writeStream\n",
    " .format(\"delta\")\n",
    " .queryName(\"Users By Region\")\n",
    " .foreachBatch(writeToDeltaLakeTableIdempotent)\n",
    " .start())"
   ]
  },
  {
   "cell_type": "code",
   "execution_count": 12,
   "id": "db57b70b-7939-4c00-b0ca-3928076f9839",
   "metadata": {},
   "outputs": [
    {
     "name": "stderr",
     "output_type": "stream",
     "text": [
      "                                                                                \r"
     ]
    },
    {
     "data": {
      "text/html": [
       "<table><tr style=\"border-bottom: 1px solid\"><td style=\"font-weight: bold\">count(1)</td></tr><tr><td>12</td></tr></table>"
      ],
      "text/plain": [
       "<IPython.core.display.HTML object>"
      ]
     },
     "execution_count": 12,
     "metadata": {},
     "output_type": "execute_result"
    }
   ],
   "source": [
    "%%sparksql\n",
    "SELECT COUNT(*) FROM delta.`/opt/workspace/data/delta_lake/idempotent-stream-write-delta/user_asia`;"
   ]
  },
  {
   "cell_type": "code",
   "execution_count": 13,
   "id": "280d8499-70ff-46a8-bce4-3645a88bc099",
   "metadata": {},
   "outputs": [
    {
     "name": "stderr",
     "output_type": "stream",
     "text": [
      "                                                                                \r"
     ]
    },
    {
     "data": {
      "text/html": [
       "<table><tr style=\"border-bottom: 1px solid\"><td style=\"font-weight: bold\">count(1)</td></tr><tr><td>7</td></tr></table>"
      ],
      "text/plain": [
       "<IPython.core.display.HTML object>"
      ]
     },
     "execution_count": 13,
     "metadata": {},
     "output_type": "execute_result"
    },
    {
     "name": "stderr",
     "output_type": "stream",
     "text": [
      "[Stage 105:============================================>          (40 + 2) / 50]\r"
     ]
    }
   ],
   "source": [
    "%%sparksql\n",
    "SELECT COUNT(*) FROM delta.`/opt/workspace/data/delta_lake/idempotent-stream-write-delta/user_americas`;"
   ]
  },
  {
   "cell_type": "code",
   "execution_count": 16,
   "id": "5939de1f-2bcd-4f08-827f-5c13d46ad05f",
   "metadata": {},
   "outputs": [
    {
     "name": "stderr",
     "output_type": "stream",
     "text": [
      "                                                                                \r"
     ]
    },
    {
     "data": {
      "text/html": [
       "<table><tr style=\"border-bottom: 1px solid\"><td style=\"font-weight: bold\">count(1)</td></tr><tr><td>13</td></tr></table>"
      ],
      "text/plain": [
       "<IPython.core.display.HTML object>"
      ]
     },
     "execution_count": 16,
     "metadata": {},
     "output_type": "execute_result"
    }
   ],
   "source": [
    "%%sparksql\n",
    "SELECT COUNT(*) FROM delta.`/opt/workspace/data/delta_lake/idempotent-stream-write-delta/user_asia`;"
   ]
  },
  {
   "cell_type": "code",
   "execution_count": 17,
   "id": "176b9fbf-ded7-49a1-90eb-1b9635a27f44",
   "metadata": {},
   "outputs": [
    {
     "name": "stderr",
     "output_type": "stream",
     "text": [
      "                                                                                \r"
     ]
    },
    {
     "data": {
      "text/html": [
       "<table><tr style=\"border-bottom: 1px solid\"><td style=\"font-weight: bold\">count(1)</td></tr><tr><td>17</td></tr></table>"
      ],
      "text/plain": [
       "<IPython.core.display.HTML object>"
      ]
     },
     "execution_count": 17,
     "metadata": {},
     "output_type": "execute_result"
    },
    {
     "name": "stderr",
     "output_type": "stream",
     "text": [
      "[Stage 347:==============>(47 + 2) / 50][Stage 350:>                (0 + 0) / 3]\r"
     ]
    }
   ],
   "source": [
    "%%sparksql\n",
    "SELECT COUNT(*) FROM delta.`/opt/workspace/data/delta_lake/idempotent-stream-write-delta/user_americas`;"
   ]
  },
  {
   "cell_type": "code",
   "execution_count": 18,
   "id": "4851e696-46cf-4371-aa44-afda5e110cff",
   "metadata": {},
   "outputs": [
    {
     "name": "stderr",
     "output_type": "stream",
     "text": [
      "[Stage 350:===================>                                     (1 + 2) / 3]\r"
     ]
    }
   ],
   "source": [
    "query.stop()\n",
    "write_query.stop()"
   ]
  },
  {
   "cell_type": "code",
   "execution_count": 19,
   "id": "49bcfa1b-1401-4af6-a031-c5e17e4ad8a3",
   "metadata": {},
   "outputs": [],
   "source": [
    "spark.stop() "
   ]
  },
  {
   "cell_type": "code",
   "execution_count": null,
   "id": "6779dfbf-4561-475a-997f-f951b6418093",
   "metadata": {},
   "outputs": [],
   "source": []
  }
 ],
 "metadata": {
  "kernelspec": {
   "display_name": "Python 3 (ipykernel)",
   "language": "python",
   "name": "python3"
  },
  "language_info": {
   "codemirror_mode": {
    "name": "ipython",
    "version": 3
   },
   "file_extension": ".py",
   "mimetype": "text/x-python",
   "name": "python",
   "nbconvert_exporter": "python",
   "pygments_lexer": "ipython3",
   "version": "3.10.12"
  }
 },
 "nbformat": 4,
 "nbformat_minor": 5
}
