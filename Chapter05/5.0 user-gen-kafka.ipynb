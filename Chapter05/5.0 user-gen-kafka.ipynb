{
 "cells": [
  {
   "cell_type": "code",
   "execution_count": 3,
   "id": "8393e835-14fb-4aa3-833f-d60aa5464018",
   "metadata": {},
   "outputs": [
    {
     "name": "stdout",
     "output_type": "stream",
     "text": [
      "{'id': 28, 'name': 'user82', 'age': 47, 'gender': 'F', 'country': 'UK', 'timestamp': '08/26/2023, 12:32:02'}\n",
      "{'id': 82, 'name': 'user82', 'age': 57, 'gender': 'M', 'country': 'India', 'timestamp': '08/26/2023, 12:32:12'}\n",
      "{'id': 61, 'name': 'user45', 'age': 39, 'gender': 'F', 'country': 'China', 'timestamp': '08/26/2023, 12:32:22'}\n",
      "{'id': 89, 'name': 'user78', 'age': 62, 'gender': 'M', 'country': 'Australia', 'timestamp': '08/26/2023, 12:32:32'}\n",
      "{'id': 37, 'name': 'user27', 'age': 20, 'gender': 'M', 'country': 'India', 'timestamp': '08/26/2023, 12:32:42'}\n",
      "{'id': 53, 'name': 'user100', 'age': 64, 'gender': 'M', 'country': 'Brazil', 'timestamp': '08/26/2023, 12:32:52'}\n",
      "{'id': 60, 'name': 'user32', 'age': 27, 'gender': 'M', 'country': 'USA', 'timestamp': '08/26/2023, 12:33:02'}\n",
      "{'id': 12, 'name': 'user20', 'age': 50, 'gender': 'F', 'country': 'UK', 'timestamp': '08/26/2023, 12:33:12'}\n",
      "{'id': 75, 'name': 'user35', 'age': 52, 'gender': 'M', 'country': 'Canada', 'timestamp': '08/26/2023, 12:33:22'}\n",
      "{'id': 78, 'name': 'user42', 'age': 48, 'gender': 'M', 'country': 'UK', 'timestamp': '08/26/2023, 12:33:32'}\n",
      "{'id': 46, 'name': 'user91', 'age': 50, 'gender': 'F', 'country': 'UK', 'timestamp': '08/26/2023, 12:33:42'}\n",
      "{'id': 36, 'name': 'user1', 'age': 31, 'gender': 'F', 'country': 'Australia', 'timestamp': '08/26/2023, 12:33:52'}\n",
      "{'id': 3, 'name': 'user41', 'age': 57, 'gender': 'M', 'country': 'China', 'timestamp': '08/26/2023, 12:34:02'}\n",
      "{'id': 56, 'name': 'user1', 'age': 32, 'gender': 'F', 'country': 'USA', 'timestamp': '08/26/2023, 12:34:12'}\n",
      "{'id': 6, 'name': 'user37', 'age': 27, 'gender': 'M', 'country': 'Australia', 'timestamp': '08/26/2023, 12:34:22'}\n",
      "{'id': 54, 'name': 'user50', 'age': 48, 'gender': 'M', 'country': 'Australia', 'timestamp': '08/26/2023, 12:34:32'}\n",
      "{'id': 1, 'name': 'user70', 'age': 50, 'gender': 'F', 'country': 'China', 'timestamp': '08/26/2023, 12:34:42'}\n",
      "{'id': 83, 'name': 'user31', 'age': 62, 'gender': 'M', 'country': 'Brazil', 'timestamp': '08/26/2023, 12:34:52'}\n",
      "{'id': 35, 'name': 'user85', 'age': 53, 'gender': 'M', 'country': 'China', 'timestamp': '08/26/2023, 12:35:02'}\n",
      "{'id': 64, 'name': 'user64', 'age': 40, 'gender': 'M', 'country': 'Brazil', 'timestamp': '08/26/2023, 12:35:12'}\n",
      "{'id': 72, 'name': 'user58', 'age': 52, 'gender': 'M', 'country': 'India', 'timestamp': '08/26/2023, 12:35:22'}\n",
      "{'id': 41, 'name': 'user50', 'age': 19, 'gender': 'F', 'country': 'China', 'timestamp': '08/26/2023, 12:35:32'}\n",
      "{'id': 33, 'name': 'user58', 'age': 58, 'gender': 'F', 'country': 'Canada', 'timestamp': '08/26/2023, 12:35:42'}\n",
      "{'id': 28, 'name': 'user30', 'age': 19, 'gender': 'M', 'country': 'Brazil', 'timestamp': '08/26/2023, 12:35:52'}\n",
      "{'id': 68, 'name': 'user21', 'age': 24, 'gender': 'M', 'country': 'UK', 'timestamp': '08/26/2023, 12:36:02'}\n",
      "{'id': 98, 'name': 'user61', 'age': 37, 'gender': 'F', 'country': 'China', 'timestamp': '08/26/2023, 12:36:12'}\n"
     ]
    },
    {
     "ename": "KeyboardInterrupt",
     "evalue": "",
     "output_type": "error",
     "traceback": [
      "\u001b[0;31m---------------------------------------------------------------------------\u001b[0m",
      "\u001b[0;31mKeyboardInterrupt\u001b[0m                         Traceback (most recent call last)",
      "Cell \u001b[0;32mIn[3], line 24\u001b[0m\n\u001b[1;32m     22\u001b[0m producer\u001b[38;5;241m.\u001b[39msend(\u001b[38;5;124m'\u001b[39m\u001b[38;5;124musers\u001b[39m\u001b[38;5;124m'\u001b[39m, value\u001b[38;5;241m=\u001b[39mjson\u001b[38;5;241m.\u001b[39mdumps(message)\u001b[38;5;241m.\u001b[39mencode(\u001b[38;5;124m'\u001b[39m\u001b[38;5;124mutf-8\u001b[39m\u001b[38;5;124m'\u001b[39m))\n\u001b[1;32m     23\u001b[0m \u001b[38;5;28mprint\u001b[39m(message)\n\u001b[0;32m---> 24\u001b[0m \u001b[43mtime\u001b[49m\u001b[38;5;241;43m.\u001b[39;49m\u001b[43msleep\u001b[49m\u001b[43m(\u001b[49m\u001b[38;5;241;43m10\u001b[39;49m\u001b[43m)\u001b[49m\n",
      "\u001b[0;31mKeyboardInterrupt\u001b[0m: "
     ]
    }
   ],
   "source": [
    "import json\n",
    "import random\n",
    "import time\n",
    "from kafka import KafkaProducer\n",
    "# using datetime module\n",
    "import datetime;\n",
    "\n",
    "producer = KafkaProducer(bootstrap_servers='kafka:9092')\n",
    "countries = ['USA', 'UK', 'India', 'China', 'Brazil', 'Canada', 'Australia']\n",
    "genders = ['M', 'F']\n",
    "\n",
    "while True:\n",
    "    current_time = time.time()\n",
    "    message = {\n",
    "        'id': random.randint(1, 100),\n",
    "        'name': f'user{random.randint(1, 100)}',\n",
    "        'age': random.randint(18, 65),\n",
    "        'gender': random.choice(genders),\n",
    "        'country': random.choice(countries),\n",
    "        'timestamp':datetime.datetime.fromtimestamp(current_time).strftime(\"%m/%d/%Y, %H:%M:%S\")\n",
    "    }\n",
    "    producer.send('users', value=json.dumps(message).encode('utf-8'))\n",
    "    print(message)\n",
    "    time.sleep(10)"
   ]
  },
  {
   "cell_type": "markdown",
   "id": "87081f46-4053-4df2-b262-aec86df50970",
   "metadata": {
    "jp-MarkdownHeadingCollapsed": true
   },
   "source": [
    "### "
   ]
  }
 ],
 "metadata": {
  "kernelspec": {
   "display_name": "Python 3 (ipykernel)",
   "language": "python",
   "name": "python3"
  },
  "language_info": {
   "codemirror_mode": {
    "name": "ipython",
    "version": 3
   },
   "file_extension": ".py",
   "mimetype": "text/x-python",
   "name": "python",
   "nbconvert_exporter": "python",
   "pygments_lexer": "ipython3",
   "version": "3.10.12"
  }
 },
 "nbformat": 4,
 "nbformat_minor": 5
}
