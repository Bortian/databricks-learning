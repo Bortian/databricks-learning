{
 "cells": [
  {
   "cell_type": "code",
   "execution_count": 1,
   "id": "8393e835-14fb-4aa3-833f-d60aa5464018",
   "metadata": {},
   "outputs": [
    {
     "name": "stdout",
     "output_type": "stream",
     "text": [
      "{'order_id': 410064, 'product_id': 1004, 'quantity': 4, 'timestamp': '08/26/2023, 12:03:48'}\n",
      "{'order_id': 360173, 'product_id': 1002, 'quantity': 1, 'timestamp': '08/26/2023, 12:03:59'}\n",
      "{'order_id': 519915, 'product_id': 1002, 'quantity': 4, 'timestamp': '08/26/2023, 12:04:09'}\n",
      "{'order_id': 106261, 'product_id': 1004, 'quantity': 2, 'timestamp': '08/26/2023, 12:04:19'}\n",
      "{'order_id': 944946, 'product_id': 1001, 'quantity': 2, 'timestamp': '08/26/2023, 12:04:29'}\n",
      "{'order_id': 685163, 'product_id': 1005, 'quantity': 3, 'timestamp': '08/26/2023, 12:04:39'}\n",
      "{'order_id': 108816, 'product_id': 1005, 'quantity': 1, 'timestamp': '08/26/2023, 12:04:49'}\n",
      "{'order_id': 826344, 'product_id': 1001, 'quantity': 3, 'timestamp': '08/26/2023, 12:04:59'}\n",
      "{'order_id': 312359, 'product_id': 1005, 'quantity': 5, 'timestamp': '08/26/2023, 12:05:09'}\n",
      "{'order_id': 682444, 'product_id': 1003, 'quantity': 5, 'timestamp': '08/26/2023, 12:05:19'}\n",
      "{'order_id': 326959, 'product_id': 1001, 'quantity': 4, 'timestamp': '08/26/2023, 12:05:29'}\n",
      "{'order_id': 155770, 'product_id': 1001, 'quantity': 5, 'timestamp': '08/26/2023, 12:05:39'}\n",
      "{'order_id': 825106, 'product_id': 1005, 'quantity': 4, 'timestamp': '08/26/2023, 12:05:49'}\n",
      "{'order_id': 873692, 'product_id': 1002, 'quantity': 5, 'timestamp': '08/26/2023, 12:05:59'}\n",
      "{'order_id': 835250, 'product_id': 1004, 'quantity': 1, 'timestamp': '08/26/2023, 12:06:09'}\n",
      "{'order_id': 612615, 'product_id': 1001, 'quantity': 4, 'timestamp': '08/26/2023, 12:06:19'}\n",
      "{'order_id': 543125, 'product_id': 1002, 'quantity': 2, 'timestamp': '08/26/2023, 12:06:29'}\n",
      "{'order_id': 990700, 'product_id': 1004, 'quantity': 4, 'timestamp': '08/26/2023, 12:06:39'}\n",
      "{'order_id': 212045, 'product_id': 1003, 'quantity': 1, 'timestamp': '08/26/2023, 12:06:49'}\n",
      "{'order_id': 791585, 'product_id': 1002, 'quantity': 5, 'timestamp': '08/26/2023, 12:06:59'}\n",
      "{'order_id': 828794, 'product_id': 1005, 'quantity': 5, 'timestamp': '08/26/2023, 12:07:09'}\n",
      "{'order_id': 625319, 'product_id': 1002, 'quantity': 3, 'timestamp': '08/26/2023, 12:07:19'}\n",
      "{'order_id': 390201, 'product_id': 1005, 'quantity': 1, 'timestamp': '08/26/2023, 12:07:29'}\n",
      "{'order_id': 740359, 'product_id': 1003, 'quantity': 4, 'timestamp': '08/26/2023, 12:07:39'}\n",
      "{'order_id': 487662, 'product_id': 1001, 'quantity': 1, 'timestamp': '08/26/2023, 12:07:49'}\n",
      "{'order_id': 585083, 'product_id': 1005, 'quantity': 4, 'timestamp': '08/26/2023, 12:07:59'}\n",
      "{'order_id': 760156, 'product_id': 1001, 'quantity': 5, 'timestamp': '08/26/2023, 12:08:09'}\n",
      "{'order_id': 371154, 'product_id': 1004, 'quantity': 2, 'timestamp': '08/26/2023, 12:08:19'}\n",
      "{'order_id': 382621, 'product_id': 1005, 'quantity': 4, 'timestamp': '08/26/2023, 12:08:29'}\n",
      "{'order_id': 805896, 'product_id': 1005, 'quantity': 4, 'timestamp': '08/26/2023, 12:08:39'}\n",
      "{'order_id': 701321, 'product_id': 1003, 'quantity': 5, 'timestamp': '08/26/2023, 12:08:49'}\n"
     ]
    },
    {
     "ename": "KeyboardInterrupt",
     "evalue": "",
     "output_type": "error",
     "traceback": [
      "\u001b[0;31m---------------------------------------------------------------------------\u001b[0m",
      "\u001b[0;31mKeyboardInterrupt\u001b[0m                         Traceback (most recent call last)",
      "Cell \u001b[0;32mIn[1], line 40\u001b[0m\n\u001b[1;32m     37\u001b[0m \u001b[38;5;66;03m# Send the event to the Kafka topic\u001b[39;00m\n\u001b[1;32m     39\u001b[0m producer\u001b[38;5;241m.\u001b[39msend(topic, value\u001b[38;5;241m=\u001b[39mjson\u001b[38;5;241m.\u001b[39mdumps(order)\u001b[38;5;241m.\u001b[39mencode(\u001b[38;5;124m'\u001b[39m\u001b[38;5;124mutf-8\u001b[39m\u001b[38;5;124m'\u001b[39m))\n\u001b[0;32m---> 40\u001b[0m \u001b[43mtime\u001b[49m\u001b[38;5;241;43m.\u001b[39;49m\u001b[43msleep\u001b[49m\u001b[43m(\u001b[49m\u001b[38;5;241;43m10\u001b[39;49m\u001b[43m)\u001b[49m\n",
      "\u001b[0;31mKeyboardInterrupt\u001b[0m: "
     ]
    }
   ],
   "source": [
    "# Import the required modules\n",
    "import random\n",
    "import json\n",
    "from kafka import KafkaProducer\n",
    "import time\n",
    "\n",
    "# using datetime module\n",
    "import datetime;\n",
    "\n",
    "# Define the bootstrap servers and the topic name\n",
    "bootstrap_servers = \"kafka:9092\"\n",
    "topic = \"orders\"\n",
    "\n",
    "# Create a Kafka producer with JSON value serializer\n",
    "producer = KafkaProducer(bootstrap_servers=bootstrap_servers)\n",
    "\n",
    "# Define the product IDs and the quantities\n",
    "product_ids = [1001, 1002, 1003, 1004, 1005]\n",
    "quantities = [1, 2, 3, 4, 5]\n",
    "\n",
    "# Define a function to generate random event data\n",
    "def generate_orders():\n",
    "    current_time = time.time()\n",
    "    order_id = random.randint(100000, 999999)\n",
    "    product_id = random.choice(product_ids)\n",
    "    quantity = random.choice(quantities)\n",
    "    timestamp = datetime.datetime.fromtimestamp(current_time).strftime(\"%m/%d/%Y, %H:%M:%S\")\n",
    "    \n",
    "    # Create an order dictionary\n",
    "    return {\"order_id\": order_id, \"product_id\": product_id, \"quantity\": quantity,\"timestamp\": timestamp}\n",
    "# Loop to generate and send events\n",
    "while True:\n",
    "  # Generate a random event\n",
    "  order = generate_orders()\n",
    "  # Print the event to the console\n",
    "  print(order)\n",
    "  # Send the event to the Kafka topic\n",
    "    \n",
    "  producer.send(topic, value=json.dumps(order).encode('utf-8'))\n",
    "  time.sleep(10)\n"
   ]
  },
  {
   "cell_type": "markdown",
   "id": "87081f46-4053-4df2-b262-aec86df50970",
   "metadata": {
    "jp-MarkdownHeadingCollapsed": true
   },
   "source": [
    "### "
   ]
  }
 ],
 "metadata": {
  "kernelspec": {
   "display_name": "Python 3 (ipykernel)",
   "language": "python",
   "name": "python3"
  },
  "language_info": {
   "codemirror_mode": {
    "name": "ipython",
    "version": 3
   },
   "file_extension": ".py",
   "mimetype": "text/x-python",
   "name": "python",
   "nbconvert_exporter": "python",
   "pygments_lexer": "ipython3",
   "version": "3.10.12"
  }
 },
 "nbformat": 4,
 "nbformat_minor": 5
}
