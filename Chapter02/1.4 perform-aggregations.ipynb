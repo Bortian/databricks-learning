{
 "cells": [
  {
   "cell_type": "code",
   "execution_count": 1,
   "id": "1d841128-719a-4d79-b52f-9625d060a7c5",
   "metadata": {},
   "outputs": [
    {
     "name": "stderr",
     "output_type": "stream",
     "text": [
      "Setting default log level to \"WARN\".\n",
      "To adjust logging level use sc.setLogLevel(newLevel). For SparkR, use setLogLevel(newLevel).\n"
     ]
    },
    {
     "name": "stdout",
     "output_type": "stream",
     "text": [
      "23/05/20 11:18:36 WARN NativeCodeLoader: Unable to load native-hadoop library for your platform... using builtin-java classes where applicable\n"
     ]
    }
   ],
   "source": [
    "from pyspark.sql import SparkSession\n",
    "from pyspark.sql.functions import *\n",
    "\n",
    "spark = (SparkSession.builder\n",
    "         .appName(\"perform-aagregations\")\n",
    "         .master(\"spark://spark-master:7077\")\n",
    "         .config(\"spark.executor.memory\", \"512m\")\n",
    "         .getOrCreate())\n",
    "\n",
    "spark.sparkContext.setLogLevel(\"ERROR\")"
   ]
  },
  {
   "cell_type": "code",
   "execution_count": 2,
   "id": "4490d08e-4226-43b8-85f9-811cfc3fa627",
   "metadata": {
    "tags": []
   },
   "outputs": [
    {
     "name": "stderr",
     "output_type": "stream",
     "text": [
      "                                                                                \r"
     ]
    }
   ],
   "source": [
    "df = (spark.read.format(\"csv\")\n",
    "      .option(\"header\", \"true\")\n",
    "      .option(\"nullValue\", \"null\")\n",
    "      .option(\"dateFormat\", \"LLLL d, y\")\n",
    "      .load(\"../data/netflix_titles.csv\"))"
   ]
  },
  {
   "cell_type": "code",
   "execution_count": 3,
   "id": "23e2f8fb-5ce0-49c5-a613-8552c089116d",
   "metadata": {
    "tags": []
   },
   "outputs": [],
   "source": [
    "# Group the data by a column\n",
    "grouped_df = df.groupBy(\"country\")"
   ]
  },
  {
   "cell_type": "code",
   "execution_count": 4,
   "id": "18aa9485-5114-4d35-95f9-05c7a5bf02ab",
   "metadata": {
    "tags": []
   },
   "outputs": [
    {
     "name": "stderr",
     "output_type": "stream",
     "text": [
      "[Stage 1:>                                                          (0 + 1) / 1]\r"
     ]
    },
    {
     "name": "stdout",
     "output_type": "stream",
     "text": [
      "+--------------------+-----+\n",
      "|             country|count|\n",
      "+--------------------+-----+\n",
      "|Peru, United Stat...|    1|\n",
      "|India, United Kin...|    1|\n",
      "|Japan, Canada, Un...|    1|\n",
      "|United Kingdom, C...|    1|\n",
      "|      India, Germany|    2|\n",
      "|South Africa, Uni...|    1|\n",
      "|              Russia|   15|\n",
      "|United Kingdom, G...|    1|\n",
      "|Chile, United Sta...|    1|\n",
      "|South Africa, Angola|    1|\n",
      "|United States, Po...|    1|\n",
      "|  Philippines, Qatar|    1|\n",
      "|Hong Kong, China,...|    1|\n",
      "|  Germany, Sri Lanka|    1|\n",
      "|Denmark, France, ...|    1|\n",
      "|United States, Fr...|    1|\n",
      "|United Kingdom, N...|    2|\n",
      "|Australia, United...|    2|\n",
      "|Brazil, France, G...|    1|\n",
      "|United States, Ir...|    3|\n",
      "+--------------------+-----+\n",
      "only showing top 20 rows\n",
      "\n"
     ]
    },
    {
     "name": "stderr",
     "output_type": "stream",
     "text": [
      "                                                                                \r"
     ]
    }
   ],
   "source": [
    "# Count the number of rows in each group\n",
    "count_df = grouped_df.count()\n",
    "count_df.show()"
   ]
  },
  {
   "cell_type": "code",
   "execution_count": 5,
   "id": "fdd37bdd-ec7f-462c-844a-bb041cbd208d",
   "metadata": {
    "tags": []
   },
   "outputs": [
    {
     "name": "stderr",
     "output_type": "stream",
     "text": [
      "[Stage 4:>                                                          (0 + 1) / 1]\r"
     ]
    },
    {
     "name": "stdout",
     "output_type": "stream",
     "text": [
      "+--------------------+--------------------+\n",
      "|             country|     max(date_added)|\n",
      "+--------------------+--------------------+\n",
      "|                null|   September 9, 2021|\n",
      "|     Ama K. Abebrese|  Kobina Amissah Sam|\n",
      "|         Aziz Ansari|         Carla Gallo|\n",
      "|            Chuck D.|     Desiree Densiti|\n",
      "|       Dominic Costa|        Nick Ferraro|\n",
      "|          Doug Plaut|    Cheyenne Jackson|\n",
      "|     Francesc Orella|        Imanol Arias|\n",
      "|  Henri-Noël Tabary\"|              France|\n",
      "|       James Toback\"|       United States|\n",
      "| Justin \"\"Alyssa ...|         Molly Ryman|\n",
      "|  Lachion Buckingham|       Chasity Moore|\n",
      "|  Leonardo Sbaraglia|     Francesc Orella|\n",
      "|   Michael Cavalieri|     Walton Goggins\"|\n",
      "| Remilekun \"\"Remi...| Charles  \"\"Charl...|\n",
      "|          Rob Morgan|     Shakira Barrera|\n",
      "|       Sophia Loren\"|       United States|\n",
      "|     Tantoo Cardinal|   Robert Pastorelli|\n",
      "|      Theo Campbell\"|       United States|\n",
      "| Tobechukwu \"\"iLL...|          Toni Tones|\n",
      "| plus Whitney Cum...|                null|\n",
      "+--------------------+--------------------+\n",
      "only showing top 20 rows\n",
      "\n"
     ]
    },
    {
     "name": "stderr",
     "output_type": "stream",
     "text": [
      "                                                                                \r"
     ]
    }
   ],
   "source": [
    "# Apply custom aggregation using max\n",
    "max_release_df = grouped_df.agg(max(col(\"date_added\")))\n",
    "max_release_df.show()"
   ]
  },
  {
   "cell_type": "code",
   "execution_count": 6,
   "id": "73ca2ae8-7fbb-4c8c-9ce3-4f3b0875439c",
   "metadata": {
    "tags": []
   },
   "outputs": [
    {
     "name": "stderr",
     "output_type": "stream",
     "text": [
      "[Stage 7:>                                                          (0 + 1) / 1]\r"
     ]
    },
    {
     "name": "stdout",
     "output_type": "stream",
     "text": [
      "+--------------------+----------------+--------------------+--------------------+\n",
      "|             country|NumberOfReleases|     LastReleaseDate|    FirstReleaseDate|\n",
      "+--------------------+----------------+--------------------+--------------------+\n",
      "|                null|             832|   September 9, 2021|   December 14, 2018|\n",
      "|     Ama K. Abebrese|               1|  Kobina Amissah Sam|  Kobina Amissah Sam|\n",
      "|         Aziz Ansari|               1|         Carla Gallo|         Carla Gallo|\n",
      "|            Chuck D.|               1|     Desiree Densiti|     Desiree Densiti|\n",
      "|       Dominic Costa|               1|        Nick Ferraro|        Nick Ferraro|\n",
      "|          Doug Plaut|               1|    Cheyenne Jackson|    Cheyenne Jackson|\n",
      "|     Francesc Orella|               1|        Imanol Arias|        Imanol Arias|\n",
      "|  Henri-Noël Tabary\"|               1|              France|              France|\n",
      "|       James Toback\"|               1|       United States|       United States|\n",
      "| Justin \"\"Alyssa ...|               1|         Molly Ryman|         Molly Ryman|\n",
      "|  Lachion Buckingham|               1|       Chasity Moore|       Chasity Moore|\n",
      "|  Leonardo Sbaraglia|               1|     Francesc Orella|     Francesc Orella|\n",
      "|   Michael Cavalieri|               1|     Walton Goggins\"|     Walton Goggins\"|\n",
      "| Remilekun \"\"Remi...|               1| Charles  \"\"Charl...| Charles  \"\"Charl...|\n",
      "|          Rob Morgan|               1|     Shakira Barrera|     Shakira Barrera|\n",
      "|       Sophia Loren\"|               1|       United States|       United States|\n",
      "|     Tantoo Cardinal|               1|   Robert Pastorelli|   Robert Pastorelli|\n",
      "|      Theo Campbell\"|               1|       United States|       United States|\n",
      "| Tobechukwu \"\"iLL...|               1|          Toni Tones|          Toni Tones|\n",
      "| plus Whitney Cum...|               1|                null|                null|\n",
      "+--------------------+----------------+--------------------+--------------------+\n",
      "only showing top 20 rows\n",
      "\n"
     ]
    },
    {
     "name": "stderr",
     "output_type": "stream",
     "text": [
      "                                                                                \r"
     ]
    }
   ],
   "source": [
    "release_date_gouped_df = (\n",
    "    df.groupBy(\"country\")\n",
    "    .agg(\n",
    "        count(\"show_id\").alias(\"NumberOfReleases\")\n",
    "        ,max(\"date_added\").alias(\"LastReleaseDate\")\n",
    "        ,min(\"date_added\").alias(\"FirstReleaseDate\")))\n",
    "\n",
    "release_date_gouped_df.show()"
   ]
  },
  {
   "cell_type": "markdown",
   "id": "0555937b-89eb-460c-8382-99870978d8f5",
   "metadata": {},
   "source": [
    "### Pivot Tables"
   ]
  },
  {
   "cell_type": "code",
   "execution_count": 7,
   "id": "db65d376-bccd-40b4-ba18-cd1ecaa71962",
   "metadata": {
    "tags": []
   },
   "outputs": [
    {
     "name": "stdout",
     "output_type": "stream",
     "text": [
      "+--------------------+----+-----+-------+-------------+\n",
      "|             country|null|Movie|TV Show|William Wyler|\n",
      "+--------------------+----+-----+-------+-------------+\n",
      "|Peru, United Stat...|null|    1|   null|         null|\n",
      "|United Kingdom, C...|null| null|      1|         null|\n",
      "|India, United Kin...|null|    1|   null|         null|\n",
      "|      India, Germany|null|    2|   null|         null|\n",
      "|Japan, Canada, Un...|null| null|      1|         null|\n",
      "|South Africa, Uni...|null|    1|   null|         null|\n",
      "|              Russia|null|    1|     14|         null|\n",
      "|United Kingdom, G...|null| null|      1|         null|\n",
      "|Chile, United Sta...|null|    1|   null|         null|\n",
      "|  Philippines, Qatar|null|    1|   null|         null|\n",
      "|United States, Fr...|null| null|      1|         null|\n",
      "|Hong Kong, China,...|null|    1|   null|         null|\n",
      "|Denmark, France, ...|null|    1|   null|         null|\n",
      "|South Africa, Angola|null|    1|   null|         null|\n",
      "|United States, Po...|null| null|      1|         null|\n",
      "|  Germany, Sri Lanka|null|    1|   null|         null|\n",
      "|United Kingdom, N...|null|    2|   null|         null|\n",
      "|Australia, United...|null|    2|   null|         null|\n",
      "|United States, Ir...|null|    2|      1|         null|\n",
      "|Brazil, France, G...|null|    1|   null|         null|\n",
      "+--------------------+----+-----+-------+-------------+\n",
      "only showing top 20 rows\n",
      "\n"
     ]
    }
   ],
   "source": [
    "pivot_table = (df.groupBy(\"country\").pivot(\"type\").agg(count(\"show_id\")))\n",
    "pivot_table.show()"
   ]
  },
  {
   "cell_type": "markdown",
   "id": "20a1282f-3374-4d5e-9cab-91fe1b259eb8",
   "metadata": {},
   "source": [
    "### Approximate Aggregations"
   ]
  },
  {
   "cell_type": "code",
   "execution_count": 14,
   "id": "f65a03c4-5876-4de3-addc-c5d16387334e",
   "metadata": {
    "tags": []
   },
   "outputs": [],
   "source": [
    "from pyspark.sql.types import StructType, StructField, StringType, IntegerType, DateType\n",
    "\n",
    "# Define a Schema\n",
    "schema = StructType([\n",
    "    StructField(\"Id\", IntegerType(), True),\n",
    "    StructField(\"ProductId\", StringType(), True),\n",
    "    StructField(\"UserId\", StringType(), True),\n",
    "    StructField(\"ProfileName\", StringType(), True),\n",
    "    StructField(\"HelpfulnessNumerator\", StringType(), True),\n",
    "    StructField(\"HelpfulnessDenominator\", StringType(), True),\n",
    "    StructField(\"Score\", IntegerType(), True),\n",
    "    StructField(\"Time\", StringType(), True),\n",
    "    StructField(\"Summary\", StringType(), True),\n",
    "    StructField(\"Text\", StringType(), True)])\n",
    "\n",
    "\n",
    "review_df = (spark.read.format(\"csv\")\n",
    "      .option(\"header\",True)\n",
    "      .schema(schema)\n",
    "      .load(\"../data/Reviews.csv\"))"
   ]
  },
  {
   "cell_type": "code",
   "execution_count": 15,
   "id": "b6f0c282-d37f-4e4f-b7e7-b71da7fa0bff",
   "metadata": {
    "tags": []
   },
   "outputs": [
    {
     "name": "stderr",
     "output_type": "stream",
     "text": [
      "[Stage 25:=============================>                            (1 + 1) / 2]\r"
     ]
    },
    {
     "name": "stdout",
     "output_type": "stream",
     "text": [
      "Approximate Quantiles: [4.0, 5.0, 5.0]\n"
     ]
    },
    {
     "name": "stderr",
     "output_type": "stream",
     "text": [
      "                                                                                \r"
     ]
    }
   ],
   "source": [
    "# Approximate quantile calculation\n",
    "quantiles = review_df.approxQuantile(\"Score\", [0.25, 0.5, 0.75], 0.1)\n",
    "print(\"Approximate Quantiles:\", quantiles)"
   ]
  },
  {
   "cell_type": "code",
   "execution_count": 16,
   "id": "841b849e-c962-4256-9e1e-fd7e4843bd91",
   "metadata": {
    "tags": []
   },
   "outputs": [
    {
     "name": "stderr",
     "output_type": "stream",
     "text": [
      "/usr/local/lib/python3.10/dist-packages/pyspark/sql/functions.py:1075: FutureWarning: Deprecated in 2.1, use approx_count_distinct instead.\n",
      "  warnings.warn(\"Deprecated in 2.1, use approx_count_distinct instead.\", FutureWarning)\n"
     ]
    },
    {
     "name": "stdout",
     "output_type": "stream",
     "text": [
      "+---------------------+\n",
      "|approx_distinct_count|\n",
      "+---------------------+\n",
      "|                14801|\n",
      "+---------------------+\n",
      "\n"
     ]
    }
   ],
   "source": [
    "# Approximate distinct count calculation\n",
    "approx_distinct_count = review_df.select(approxCountDistinct(\"ProductId\", rsd=0.1).alias(\"approx_distinct_count\"))\n",
    "approx_distinct_count.show()"
   ]
  },
  {
   "cell_type": "code",
   "execution_count": 17,
   "id": "24880ec4-56ea-49b8-8938-121a1f1efea5",
   "metadata": {
    "tags": []
   },
   "outputs": [],
   "source": [
    "spark.stop()"
   ]
  },
  {
   "cell_type": "code",
   "execution_count": null,
   "id": "eee24c0b-d098-40f1-a2c0-ca1ec49c8b94",
   "metadata": {},
   "outputs": [],
   "source": []
  }
 ],
 "metadata": {
  "kernelspec": {
   "display_name": "Python 3 (ipykernel)",
   "language": "python",
   "name": "python3"
  },
  "language_info": {
   "codemirror_mode": {
    "name": "ipython",
    "version": 3
   },
   "file_extension": ".py",
   "mimetype": "text/x-python",
   "name": "python",
   "nbconvert_exporter": "python",
   "pygments_lexer": "ipython3",
   "version": "3.10.6"
  }
 },
 "nbformat": 4,
 "nbformat_minor": 5
}
